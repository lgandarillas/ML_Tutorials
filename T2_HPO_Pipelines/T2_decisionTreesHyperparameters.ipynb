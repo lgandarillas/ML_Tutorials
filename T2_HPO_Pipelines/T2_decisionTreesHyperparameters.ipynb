{
 "cells": [
  {
   "cell_type": "markdown",
   "metadata": {
    "id": "MPjgtz3IMDqX"
   },
   "source": [
    "Estructura de la sesión:\n",
    "- Ajuste de hiperparámetros en los árboles de decisión\n",
    "- Combinar el ajuste de hiperparámetros y la evaluación de modelos\n",
    "  - GridSearch\n",
    "  - RandomSearch\n",
    "  - Optimización basada en modelos\n",
    "\n"
   ]
  },
  {
   "cell_type": "markdown",
   "metadata": {
    "id": "RjO0ZHCkZp30"
   },
   "source": [
    "# HIPERPARÁMETROS DE LOS ÁRBOLES DE DECISIÓN. AJUSTE DE ÁRBOLES DE DECISIÓN"
   ]
  },
  {
   "cell_type": "markdown",
   "metadata": {
    "id": "k_5O3DQkZp31"
   },
   "source": [
    "- **max_depth : int or None, opcional (por defecto=None)**\n",
    "    La profundidad máxima del árbol. Si es None, los nodos se expanden hasta que todas las hojas sean puras o hasta que todas las hojas contengan menos muestras que min_samples_split. Se ignora si max_leaf_nodes no es None.\n",
    "    \n",
    "- **min_samples_split : int, opcional (por defecto=2)**\n",
    "    El número mínimo de muestras necesarias para dividir un nodo interno.\n",
    "\n",
    "- Hay más parámetros:\n",
    "  - https://scikit-learn.org/stable/modules/generated/sklearn.tree.DecisionTreeRegressor.html\n",
    "  - https://scikit-learn.org/stable/modules/generated/sklearn.tree.DecisionTreeClassifier.html\n",
    "\n"
   ]
  },
  {
   "cell_type": "markdown",
   "metadata": {
    "id": "5tfYm7QAZp32"
   },
   "source": [
    "Primero, se cargan los datos, las entradas van a X, las salidas a y."
   ]
  },
  {
   "cell_type": "code",
   "execution_count": null,
   "metadata": {
    "id": "sJD421uMZp33"
   },
   "outputs": [],
   "source": [
    "%matplotlib inline\n",
    "import matplotlib.pyplot as plt\n",
    "import numpy as np\n",
    "from sklearn.datasets import fetch_california_housing\n",
    "from scipy.stats import sem\n",
    "\n",
    "housing_meta = fetch_california_housing()\n",
    "X = housing_meta.data\n",
    "y = housing_meta.target\n",
    "\n",
    "print(housing_meta.DESCR)"
   ]
  },
  {
   "cell_type": "markdown",
   "metadata": {
    "id": "XQOtMG7hZp35"
   },
   "source": [
    "## COMBINAR EL AJUSTE DE HIPERPARÁMETROS Y LA EVALUACIÓN DE MODELOS"
   ]
  },
  {
   "cell_type": "markdown",
   "metadata": {
    "id": "2Ry14avEZp36"
   },
   "source": [
    "La combinación de evaluación de modelos y ajuste de hiperparámetros puede entenderse como un bucle externo (outer) que entrena un modelo y prueba el modelo, y un bucle interno (inner), donde el proceso de entrenamiento consiste en buscar los mejores hiperparámetros, y luego obtener el modelo con esos mejores hiperparámetros.\n",
    "\n",
    "En primer lugar, vamos a utilizar **Holdout** (entrenar/probar) para la evaluación del modelo (bucle externo o **outer**), y **3-fold crossvalidation** para el ajuste de los hiperparámetros (bucle interno o **inner**). Los hiperparámetros se ajustarán con **Gridsearch**."
   ]
  },
  {
   "cell_type": "markdown",
   "metadata": {
    "id": "GQQaJrViZp37"
   },
   "source": [
    "#### GRIDSEARCH"
   ]
  },
  {
   "cell_type": "markdown",
   "metadata": {
    "id": "7rqhsc9OARd3"
   },
   "source": [
    "En primer lugar, definamos nuestra función python para el RMSE"
   ]
  },
  {
   "cell_type": "code",
   "execution_count": null,
   "metadata": {
    "id": "TM7SzJLHAQhZ"
   },
   "outputs": [],
   "source": [
    "from sklearn import metrics\n",
    "\n",
    "def rmse(y_test, y_test_pred):\n",
    "  \"\"\" This is my computation of Root Mean Squared Error \"\"\"\n",
    "  return np.sqrt(metrics.mean_squared_error(y_test, y_test_pred))"
   ]
  },
  {
   "cell_type": "code",
   "execution_count": null,
   "metadata": {
    "id": "laxLj26PZp37"
   },
   "outputs": [],
   "source": [
    "from sklearn.model_selection import train_test_split\n",
    "\n",
    "# Holdout for model evaluation. 33% of available data for test\n",
    "X_train, X_test, y_train, y_test = train_test_split(X, y,test_size=0.33, random_state=42)"
   ]
  },
  {
   "cell_type": "markdown",
   "metadata": {
    "id": "9-SI_kTr82RI"
   },
   "source": [
    "En primer lugar, recordemos el RMSE con hiperparámetros por defecto"
   ]
  },
  {
   "cell_type": "code",
   "execution_count": null,
   "metadata": {
    "id": "rU6g-6PZ87DS"
   },
   "outputs": [],
   "source": [
    "from sklearn import metrics\n",
    "from sklearn.tree import DecisionTreeRegressor\n",
    "\n",
    "regr = DecisionTreeRegressor()\n",
    "np.random.seed(42)\n",
    "regr.fit(X=X_train, y=y_train)\n",
    "print(f\"RMSE of tree with default hyper-pars: {rmse(y_test, regr.predict(X=X_test))}\")\n"
   ]
  },
  {
   "cell_type": "code",
   "execution_count": null,
   "metadata": {
    "id": "GRknuZjUZp39"
   },
   "outputs": [],
   "source": [
    "from sklearn.model_selection import GridSearchCV, KFold\n",
    "from sklearn.linear_model import LogisticRegression\n",
    "\n",
    "\n",
    "# Search space\n",
    "\n",
    "param_grid = {'max_depth': list(range(2,16,2)),\n",
    "              'min_samples_split': list(range(2,16,2))}\n",
    "\n",
    "inner = KFold(n_splits=3, shuffle=True, random_state=42)\n",
    "\n",
    "# Definition of a 2-step process that self-adjusts 2 hyperpars\n",
    "regr = GridSearchCV(DecisionTreeRegressor(),\n",
    "                   param_grid,\n",
    "                   scoring='neg_mean_squared_error',\n",
    "                   cv=inner,\n",
    "                   n_jobs=1, verbose=1)\n",
    "\n",
    "# Train the self-adjusting process\n",
    "np.random.seed(42)\n",
    "regr.fit(X=X_train, y=y_train)\n",
    "\n",
    "# At this point, regr contains the model with the best hyper-parameters found by gridsearch\n",
    "# and trained on the complete X_train"
   ]
  },
  {
   "cell_type": "code",
   "execution_count": null,
   "metadata": {
    "id": "fZokHzT78udT"
   },
   "outputs": [],
   "source": [
    "# Now, the performance of regr is computed on the test partition\n",
    "\n",
    "print(f\"RMSE of tree with hyper-parameter tuning (grid-search): {rmse(y_test, regr.predict(X=X_test))}\")"
   ]
  },
  {
   "cell_type": "markdown",
   "metadata": {
    "id": "dTTNB93mZp4A"
   },
   "source": [
    "Veamos los mejores hiperparámetros y su puntuación (MSE). Podemos ver que están cerca de los extremos del espacio de parámetros, pero no en el extremo."
   ]
  },
  {
   "cell_type": "code",
   "execution_count": null,
   "metadata": {
    "id": "nVeTEIFaZp4B"
   },
   "outputs": [],
   "source": [
    "regr.best_params_, -regr.best_score_"
   ]
  },
  {
   "cell_type": "markdown",
   "metadata": {
    "id": "Hk6rBqZSZp4I"
   },
   "source": [
    "#### BUSQUEDA ALEATORIA (RANDOMIZED SEARCH)"
   ]
  },
  {
   "cell_type": "markdown",
   "metadata": {
    "id": "w7bZU45-Zp4I"
   },
   "source": [
    "Ahora, utilicemos **Búsqueda aleatoria** en lugar de gridsearch. Sólo se probarán 20 combinaciones de valores de hiperparámetros (budget=20)"
   ]
  },
  {
   "cell_type": "code",
   "execution_count": null,
   "metadata": {
    "id": "urjn49EAZp4J"
   },
   "outputs": [],
   "source": [
    "from sklearn.model_selection import RandomizedSearchCV, KFold\n",
    "from sklearn import metrics\n",
    "\n",
    "# Search space\n",
    "param_grid = {'max_depth': list(range(2,16,2)),\n",
    "              'min_samples_split': list(range(2,16,2))}\n",
    "\n",
    "# Inner evaluation\n",
    "inner = KFold(n_splits=3, shuffle=True, random_state=42)\n",
    "\n",
    "budget = 20\n",
    "regr = RandomizedSearchCV(DecisionTreeRegressor(),\n",
    "                         param_grid,\n",
    "                         scoring='neg_mean_squared_error',\n",
    "                         cv=inner,\n",
    "                         n_jobs=1, verbose=1,\n",
    "                         n_iter=budget\n",
    "                        )\n",
    "np.random.seed(42)\n",
    "regr.fit(X=X_train, y=y_train)"
   ]
  },
  {
   "cell_type": "code",
   "execution_count": null,
   "metadata": {
    "id": "x2JJyJAn-6Ci"
   },
   "outputs": [],
   "source": [
    "# Now, the performance of regr is computed on the test partition\n",
    "\n",
    "print(f\"RMSE of tree with hyper-parameter tuning (random search): {rmse(y_test, regr.predict(X=X_test))}\")"
   ]
  },
  {
   "cell_type": "code",
   "execution_count": null,
   "metadata": {
    "id": "9OzNtlMYZp4L"
   },
   "outputs": [],
   "source": [
    "regr.best_params_, -regr.best_score_"
   ]
  },
  {
   "cell_type": "markdown",
   "metadata": {
    "id": "Nk1-fYyoZp4N"
   },
   "source": [
    "Para la **Búsqueda Aleatoria**, podemos definir el espacio de búsqueda con distribuciones estadísticas, en lugar de utilizar valores particulares como hacíamos antes. A continuación puedes ver cómo utilizar una distribución uniforme sobre enteros entre 2 y 16 mediante *randint*. Para hiperparámetros continuos podríamos usar distribuciones continuas como *uniform* o *expon* (exponencial)."
   ]
  },
  {
   "cell_type": "code",
   "execution_count": null,
   "metadata": {
    "id": "-vyv0cvAZp4O"
   },
   "outputs": [],
   "source": [
    "from sklearn.model_selection import RandomizedSearchCV, KFold\n",
    "from sklearn import metrics\n",
    "\n",
    "\n",
    "from scipy.stats import uniform, expon\n",
    "from scipy.stats import randint as sp_randint\n",
    "\n",
    "# Search space with integer uniform distributions\n",
    "param_grid = {'max_depth': sp_randint(2,16),\n",
    "              'min_samples_split': sp_randint(2,16)}\n",
    "\n",
    "inner = KFold(n_splits=3, shuffle=True, random_state=42)\n",
    "\n",
    "budget = 20\n",
    "regr = RandomizedSearchCV(DecisionTreeRegressor(),\n",
    "                         param_grid,\n",
    "                         scoring='neg_mean_squared_error',\n",
    "                         cv=inner,\n",
    "                         n_jobs=1, verbose=1,\n",
    "                         n_iter=budget\n",
    "                        )\n",
    "\n",
    "np.random.seed(42)\n",
    "regr.fit(X=X_train, y=y_train)\n",
    "\n",
    "# At this point, regr contains the model with the best hyper-parameters found by gridsearch\n",
    "# and trained on the complete X_train"
   ]
  },
  {
   "cell_type": "code",
   "execution_count": null,
   "metadata": {
    "id": "CRppQBOiA9fI"
   },
   "outputs": [],
   "source": [
    "# Now, the performance of regr is computed on the test partition\n",
    "\n",
    "print(f\"RMSE of tree with hyper-parameter tuning (random search II): {rmse(y_test, regr.predict(X=X_test))}\")"
   ]
  },
  {
   "cell_type": "code",
   "execution_count": null,
   "metadata": {
    "id": "qhMPDyL8Zp4Q"
   },
   "outputs": [],
   "source": [
    "regr.best_params_, -regr.best_score_"
   ]
  },
  {
   "cell_type": "markdown",
   "metadata": {
    "id": "je3hVWP9Zp4S"
   },
   "source": [
    "¿Y si quisiéramos hacer **evaluación de modelos con 5-fold crossvalidation** y **ajuste de hiperparámetros con 3-fold crossvalidation**? Esto se denomina validación cruzada anidada https://scikit-learn.org/stable/auto_examples/model_selection/plot_nested_cross_validation_iris.html). Hay un bucle externo (para evaluar los modelos) y un bucle interno (para ajustar los hiperparámetros)"
   ]
  },
  {
   "cell_type": "markdown",
   "metadata": {
    "id": "n_1npiZgk91i"
   },
   "source": [
    "![image.png](data:image/png;base64,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)"
   ]
  },
  {
   "cell_type": "code",
   "execution_count": null,
   "metadata": {
    "id": "rkJD1ifoZp4S"
   },
   "outputs": [],
   "source": [
    "from sklearn.model_selection import RandomizedSearchCV, cross_val_score\n",
    "from sklearn import metrics\n",
    "\n",
    "# random_state=42 for reproducibility\n",
    "# Evaluation of model (outer loop)\n",
    "outer = KFold(n_splits=5, shuffle=True, random_state=42)\n",
    "\n",
    "\n",
    "from scipy.stats import uniform, expon\n",
    "\n",
    "# Search space\n",
    "param_grid = {'max_depth': list(range(2,16,2)),\n",
    "              'min_samples_split': list(range(2,16,2))}\n",
    "\n",
    "inner = KFold(n_splits=2, shuffle=True, random_state=42)\n",
    "\n",
    "budget = 20\n",
    "# This is the internal 3-fold crossvalidation for hyper-parameter tuning\n",
    "regr = RandomizedSearchCV(DecisionTreeRegressor(),\n",
    "                         param_grid,\n",
    "                         scoring='neg_mean_squared_error',\n",
    "                         # 3-fold for hyper-parameter tuning\n",
    "                         cv=inner,\n",
    "                         n_jobs=1, verbose=1,\n",
    "                         n_iter=budget\n",
    "                        )\n",
    "\n",
    "# This is the external 5-fold crossvalidation for model evaluation\n",
    "# Notice that regr is the model resulting of hyper-parameter tuning\n",
    "np.random.seed(42)\n",
    "\n",
    "# For sklearn, higher scores are better. Given that MSE is an error (smaller is better), the corresponding score is -MSE\n",
    "scores = -cross_val_score(regr,\n",
    "                            X, y,\n",
    "                            scoring='neg_mean_squared_error',\n",
    "                            cv = outer)"
   ]
  },
  {
   "cell_type": "code",
   "execution_count": null,
   "metadata": {
    "id": "VxeEDgv1Zp4U"
   },
   "outputs": [],
   "source": [
    "print(scores)\n",
    "# The score was MSE, we want RMSE\n",
    "scores = np.sqrt(scores)\n",
    "# The mean of the 5-fold crossvalidation is the final score of the model\n",
    "print(f\"{scores.mean()} +- {scores.std()}\")"
   ]
  },
  {
   "cell_type": "markdown",
   "metadata": {
    "id": "LdfqhEw9Zp4W"
   },
   "source": [
    "#### OBTENCIÓN DEL MODELO FINAL (PARA SU DESPLIEGUE, O PARA ENVIARLO A UN CONCURSO, ...)"
   ]
  },
  {
   "cell_type": "markdown",
   "metadata": {
    "id": "O5w47vRHZp4X"
   },
   "source": [
    "Si necesitamos un modelo final, podemos obtenerlo ajustando regr a todos los datos disponibles. Recordemos que regr hace ajuste de hiper-parámetros."
   ]
  },
  {
   "cell_type": "code",
   "execution_count": null,
   "metadata": {
    "id": "0Kvg0RX-Zp4X"
   },
   "outputs": [],
   "source": [
    "np.random.seed(42)\n",
    "\n",
    "# Fitting again the randomized search HPO\n",
    "regrFinal = regr.fit(X,y)"
   ]
  },
  {
   "cell_type": "code",
   "execution_count": null,
   "metadata": {
    "id": "GRfsLFLTZp4Z"
   },
   "outputs": [],
   "source": [
    "regr.best_params_, -regr.best_score_"
   ]
  },
  {
   "cell_type": "markdown",
   "metadata": {
    "id": "2XeQqmjrZp4e"
   },
   "source": [
    "### OPTIMIZACIÓN BASADA EN MODELOS (BAYESIAN OPTIMIZATION - OPTUNA)"
   ]
  },
  {
   "cell_type": "markdown",
   "metadata": {
    "id": "YNwHbEIsZp4f"
   },
   "source": [
    "OPTUNA es un paquete externo a Scikit-Learn que proporciona un framework de optimización bayesiano para la optimización de hiperparámetros: https://optuna.org/. El framework proporciona un paquete específico llamado optuna-integration (https://optuna-integration.readthedocs.io/en/latest/), que permite aprovechar la búsqueda automatizada de Optuna con algoritmos eficientes preservando la estructura de codificación que estamos utilizando basada en Scikit-Learn.\n",
    "En este tutorial, exploraremos **Holdout** para la evaluación de modelos y **3-fold crossvalidation** para el ajuste de hiperparámetros (con **Optuna Hyperparameter Optimization**)."
   ]
  },
  {
   "cell_type": "code",
   "execution_count": null,
   "metadata": {
    "id": "r3M-xHbGeRop"
   },
   "outputs": [],
   "source": [
    "#Para acceder a diferentes distribuciones y otros métodos\n",
    "%pip install optuna\n",
    "#Para acceder a optuna.integration.OptunaSearchCV y permitir la integración con Scikit-Learn\n",
    "%pip install --upgrade optuna-integration[sklearn]"
   ]
  },
  {
   "cell_type": "code",
   "execution_count": null,
   "metadata": {
    "id": "qmxEk_w4cEb7"
   },
   "outputs": [],
   "source": [
    "#import optuna.integration\n",
    "import optuna\n",
    "from optuna.integration import OptunaSearchCV\n",
    "from optuna.distributions import IntDistribution as IntDist\n",
    "from sklearn import metrics\n",
    "from sklearn.model_selection import KFold\n",
    "\n",
    "# Search space with integer uniform distributions\n",
    "param_grid_optuna = {'max_depth': IntDist(2,30),\n",
    "                     'min_samples_split': IntDist(20,100)}\n",
    "\n",
    "inner = KFold(n_splits=3, shuffle=True, random_state=42)\n",
    "budget = 50\n",
    "regr = OptunaSearchCV(DecisionTreeRegressor(),\n",
    "                    param_grid_optuna,\n",
    "                    scoring='neg_mean_squared_error',\n",
    "                    n_trials=budget,\n",
    "                    cv=inner,\n",
    "                    n_jobs=1, verbose=1,\n",
    "                    timeout=600,\n",
    "                    random_state=42\n",
    "                    )\n",
    "np.random.seed(42)\n",
    "regr.fit(X=X_train, y=y_train)\n",
    "\n",
    "# At this point, regr contains the model with the best hyper-parameters found by bayessearch\n",
    "# and trained on the complete X_train"
   ]
  },
  {
   "cell_type": "code",
   "execution_count": null,
   "metadata": {
    "id": "ZIqeUTQ6Zp4k"
   },
   "outputs": [],
   "source": [
    "# Now, the performance of regr is computed on the test partition\n",
    "\n",
    "print(f\"RMSE of tree with hyper-parameter tuning (Optuna optimization): {rmse(y_test, regr.predict(X=X_test))}\")"
   ]
  },
  {
   "cell_type": "code",
   "execution_count": null,
   "metadata": {
    "id": "RlZ321QBZp4l"
   },
   "outputs": [],
   "source": [
    "regr.best_params_, -regr.best_score_"
   ]
  },
  {
   "cell_type": "markdown",
   "metadata": {
    "id": "2YSNFqSaF6Qx"
   },
   "source": [
    "Podemos comprobar si la optimización ha convergido"
   ]
  },
  {
   "cell_type": "code",
   "execution_count": null,
   "metadata": {
    "id": "WvZ1ck0Ti6ju"
   },
   "outputs": [],
   "source": [
    "from optuna.visualization.matplotlib import plot_optimization_history\n",
    "fig = plt.figure(figsize=(25,20))\n",
    "trial = regr.study_\n",
    "plot_optimization_history(trial)\n",
    "plt.show()"
   ]
  },
  {
   "cell_type": "markdown",
   "metadata": {
    "id": "vGtj4Zc0jKZz"
   },
   "source": [
    "También podemos visualizar la importancia de los distintos parámetros y el modelo final."
   ]
  },
  {
   "cell_type": "code",
   "execution_count": null,
   "metadata": {
    "id": "n3_WqMA9jSQs"
   },
   "outputs": [],
   "source": [
    "from optuna.visualization.matplotlib import plot_param_importances\n",
    "fig = plt.figure(figsize=(25,20))\n",
    "trial = regr.study_\n",
    "plot_param_importances(trial)\n",
    "plt.show()"
   ]
  }
 ],
 "metadata": {
  "colab": {
   "provenance": []
  },
  "kernelspec": {
   "display_name": "Python 3 (ipykernel)",
   "language": "python",
   "name": "python3"
  },
  "language_info": {
   "codemirror_mode": {
    "name": "ipython",
    "version": 3
   },
   "file_extension": ".py",
   "mimetype": "text/x-python",
   "name": "python",
   "nbconvert_exporter": "python",
   "pygments_lexer": "ipython3",
   "version": "3.10.5"
  }
 },
 "nbformat": 4,
 "nbformat_minor": 0
}
