{
 "cells": [
  {
   "cell_type": "markdown",
   "metadata": {
    "id": "E0d1NdTBxjrd"
   },
   "source": [
    "# Clustering\n",
    "\n",
    "En este tutorial aprenderemos a trabajar técnicas de clustering. En el tutorial veremos distintos modelos:\n",
    "- Basados en particiones: K-Medias, K-medoids.\n",
    "- Métodos jerárquicos.\n",
    "- Basados en densidad: DBSCAN\n",
    "- Análisis de Componentes Princiales y Clustering\n",
    "- Basados en distribuciones: GMMs\n",
    "\n"
   ]
  },
  {
   "cell_type": "markdown",
   "metadata": {
    "collapsed": false,
    "id": "DAQBHI07C5D6"
   },
   "source": [
    "# Kmeans"
   ]
  },
  {
   "cell_type": "markdown",
   "metadata": {
    "collapsed": false,
    "id": "7gKQ39eiC5D6"
   },
   "source": [
    "En este ejemplo, vamos a generar un conjunto de muestras aleatorias. Comenzamos a generar estos datos"
   ]
  },
  {
   "cell_type": "code",
   "execution_count": null,
   "metadata": {
    "id": "lKVrLiuUC5D6"
   },
   "outputs": [],
   "source": [
    "# Tratamiento de datos\n",
    "# ==============================================================================\n",
    "import numpy as np\n",
    "import pandas as pd\n",
    "from sklearn.datasets import make_blobs\n",
    "\n",
    "# Gráficos\n",
    "# ==============================================================================\n",
    "import matplotlib.pyplot as plt\n",
    "import matplotlib.cm as cm\n",
    "from matplotlib import style\n",
    "style.use('ggplot') or plt.style.use('ggplot')\n",
    "\n",
    "# Preprocesado y modelado\n",
    "# ==============================================================================\n",
    "from sklearn.cluster import KMeans\n",
    "from sklearn.preprocessing import scale\n",
    "from sklearn.metrics import silhouette_score, silhouette_samples\n",
    "\n",
    "# Configuración warnings\n",
    "# ==============================================================================\n",
    "import warnings\n",
    "warnings.filterwarnings('ignore')"
   ]
  },
  {
   "cell_type": "code",
   "execution_count": null,
   "metadata": {
    "id": "_9IvlRMXC5D7"
   },
   "outputs": [],
   "source": [
    "# Simulación de datos\n",
    "# ==============================================================================\n",
    "X, y = make_blobs(\n",
    "    n_samples    = 300,\n",
    "    n_features   = 2,\n",
    "    centers      = 4,\n",
    "    cluster_std  = 0.60,\n",
    "    shuffle      = True,\n",
    "    random_state = 0\n",
    ")\n",
    "\n",
    "fig, ax = plt.subplots(1, 1, figsize=(6, 3.84))\n",
    "ax.scatter(\n",
    "    x = X[:, 0],\n",
    "    y = X[:, 1],\n",
    "    c = 'white',\n",
    "    marker    = 'o',\n",
    "    edgecolor = 'black',\n",
    ")\n",
    "ax.set_title('Datos simulados');"
   ]
  },
  {
   "cell_type": "markdown",
   "metadata": {
    "collapsed": false,
    "id": "qfAeQyxlC5D7"
   },
   "source": [
    "La implementación de `sklearn.cluster.KMeans` tiene los siguientes parámetros:\n",
    "- `n_clusters`: determina el número *𝐾* de clusters que se van a generar.\n",
    "- `init`: estrategia para asignar los centroides iniciales. Por defecto se emplea 'k-means++', una estrategia que trata de alejar los centroides lo máximo posible facilitando la convergencia. Sin embargo, esta estrategia puede ralentizar el proceso cuando hay muchos datos, si esto ocurre, es mejor utilizar 'random'.\n",
    "- `n_init`: determina el número de veces que se va a repetir el proceso, cada vez con una asignación aleatoria inicial distinta. Es recomendable que este último valor sea alto, entre 10-25, para no obtener resultados subóptimos debido a una iniciación poco afortunada del proceso.\n",
    "- `max_iter`: número máximo de iteraciones permitidas.\n",
    "- `random_state`: semilla para garantizar la reproducibilidad de los resultados."
   ]
  },
  {
   "cell_type": "code",
   "execution_count": null,
   "metadata": {
    "id": "P0XxPVxZC5D7"
   },
   "outputs": [],
   "source": [
    "# Escalado de datos\n",
    "# ==============================================================================\n",
    "X_scaled = scale(X)"
   ]
  },
  {
   "cell_type": "code",
   "execution_count": null,
   "metadata": {
    "id": "7AUutnRyC5D7"
   },
   "outputs": [],
   "source": [
    "# Modelo\n",
    "# ==============================================================================\n",
    "modelo_kmeans = KMeans(n_clusters=4, n_init=25, random_state=42)\n",
    "modelo_kmeans.fit(X=X_scaled)"
   ]
  },
  {
   "cell_type": "markdown",
   "metadata": {
    "collapsed": false,
    "id": "puv74RouC5D7"
   },
   "source": [
    "El objeto devuelto por `KMeans()` contiene entre otros datos: la media de cada una de las variables para cada cluster (`cluster_centers_`), es decir, los centroides. Un vector indicando a qué cluster se ha asignado cada observación (`.labels_`) y la suma de los errores cuadráticos dentro del cluster (within-cluster sum of squares o WCSS en inglés) (`.inertia_`). `.inertia_` mide qué tan compactos son los clusters. Es decir, cuán cerca están los puntos de datos de los centroides de sus respectivos clusters. Una inercia baja indica clusters más compactos y una mejor agrupación, en principio. Pero una menor inercia no siempre significa un mejor modelo, porque agregar más clusters siempre reduce la inercia (hasta que cada punto es su propio cluster)."
   ]
  },
  {
   "cell_type": "markdown",
   "metadata": {
    "collapsed": false,
    "id": "GZXaNvDaC5D7"
   },
   "source": [
    "Vamos a pintar como nos quedan los clusters"
   ]
  },
  {
   "cell_type": "code",
   "execution_count": null,
   "metadata": {
    "id": "JxpXou29C5D7"
   },
   "outputs": [],
   "source": [
    "# Clasificación con el modelo kmeans\n",
    "# ==============================================================================\n",
    "y_predict = modelo_kmeans.predict(X=X_scaled)"
   ]
  },
  {
   "cell_type": "code",
   "execution_count": null,
   "metadata": {
    "id": "doDMzOWrC5D8"
   },
   "outputs": [],
   "source": [
    "# Representación gráfica: grupos originales vs clusters creados\n",
    "# ==============================================================================\n",
    "fig, ax = plt.subplots(1, 1, figsize=(6, 5))\n",
    "for i in np.unique(y):\n",
    "    ax.scatter(\n",
    "        x = X_scaled[y == i, 0],\n",
    "        y = X_scaled[y == i, 1],\n",
    "        c = plt.rcParams['axes.prop_cycle'].by_key()['color'][i],\n",
    "        marker    = 'o',\n",
    "        edgecolor = 'black',\n",
    "        label= f\"Grupo {i}\"\n",
    "    )\n",
    "\n",
    "ax.scatter(\n",
    "    x = modelo_kmeans.cluster_centers_[:, 0],\n",
    "    y = modelo_kmeans.cluster_centers_[:, 1],\n",
    "    c = 'black',\n",
    "    s = 200,\n",
    "    marker = '*',\n",
    "    label  = 'Centroides'\n",
    ")\n",
    "ax.set_title('Clusters generados por Kmeans')\n",
    "ax.legend();"
   ]
  },
  {
   "cell_type": "markdown",
   "metadata": {
    "collapsed": false,
    "id": "k37ZV6vfC5D8"
   },
   "source": [
    "Vamos a ver que pasaría si en vez de decirle a KMeans que son 4 clusters, le decimos que K=2 ó K=6"
   ]
  },
  {
   "cell_type": "code",
   "execution_count": null,
   "metadata": {
    "id": "m9BB9BwyC5D8"
   },
   "outputs": [],
   "source": [
    "fig, ax = plt.subplots(1, 2, figsize=(10, 4))\n",
    "\n",
    "# Resultados para K = 2\n",
    "# ==============================================================================\n",
    "y_predict = KMeans(n_clusters=2, n_init=25, random_state=42).fit_predict(X=X_scaled)\n",
    "ax[0].scatter(\n",
    "    x = X_scaled[:, 0],\n",
    "    y = X_scaled[:, 1],\n",
    "    c = y_predict,\n",
    "    #cmap='viridis',\n",
    "    marker    = 'o',\n",
    "    edgecolor = 'black'\n",
    ")\n",
    "ax[0].set_title('KMeans K=2');\n",
    "\n",
    "# Resultados para K = 6\n",
    "# ==============================================================================\n",
    "y_predict = KMeans(n_clusters=6, n_init=25, random_state=42).fit_predict(X=X_scaled)\n",
    "ax[1].scatter(\n",
    "    x = X_scaled[:, 0],\n",
    "    y = X_scaled[:, 1],\n",
    "    c = y_predict,\n",
    "    #cmap='viridis',\n",
    "    marker    = 'o',\n",
    "    edgecolor = 'black'\n",
    ")\n",
    "ax[1].set_title('KMeans K=6');"
   ]
  },
  {
   "cell_type": "markdown",
   "metadata": {
    "id": "P4m6LNIfPyiT"
   },
   "source": [
    "## Número de clusters"
   ]
  },
  {
   "cell_type": "markdown",
   "metadata": {
    "collapsed": false,
    "id": "CfmaaeFxC5D8"
   },
   "source": [
    "### Método del codo (Elbow method)\n",
    "La solución al problema anterior es hacer una búsqueda de cual sería el K mejor. La idea es obtener para valor de K la suma de los cuadrados de la distancia de cada punto con el centroide al que se encuentra asignado (se obtiene de `.inertia_`). Es una medida de lo coherentes que son internamente los clusters. La idea es que si K crece el valor de `.inertia_` es menor porque cada cluster es más pequeño. Sin embargo, a partir de cierto punto, la adición de más clusters proporciona rendimientos decrecientes en términos de reducción de `.inertia_`, y la tasa de disminución se ralentiza, formando un codo en el gráfico. Ese sería el valor óptimo para seleccionar."
   ]
  },
  {
   "cell_type": "code",
   "execution_count": null,
   "metadata": {
    "id": "IOU7J99wC5D8"
   },
   "outputs": [],
   "source": [
    "# Método elbow para identificar el número óptimo de clusters\n",
    "# ==============================================================================\n",
    "range_n_clusters = range(1, 15)\n",
    "inertias = []\n",
    "\n",
    "for n_clusters in range_n_clusters:\n",
    "    modelo_kmeans = KMeans(\n",
    "        n_clusters   = n_clusters,\n",
    "        n_init       = 20,\n",
    "        random_state = 42\n",
    "    )\n",
    "    modelo_kmeans.fit(X_scaled)\n",
    "    inertias.append(modelo_kmeans.inertia_)\n",
    "\n",
    "fig, ax = plt.subplots(1, 1, figsize=(6, 3.84))\n",
    "ax.plot(range_n_clusters, inertias, marker='o')\n",
    "ax.set_title(\"Evolución de la varianza intra-cluster total\")\n",
    "ax.set_xlabel('Número clusters')\n",
    "ax.set_ylabel('Intra-cluster (inertia)');"
   ]
  },
  {
   "cell_type": "markdown",
   "metadata": {
    "collapsed": false,
    "id": "DtvdUdInC5D8"
   },
   "source": [
    "Vemos como el valor óptimo es K=4, donde se encuentra el codo de la función, como ya sabíamos."
   ]
  },
  {
   "cell_type": "markdown",
   "metadata": {
    "collapsed": false,
    "id": "lYuBd00eC5D8"
   },
   "source": [
    "### Método Silhouette\n",
    "Algunas veces, con el método Elbow es difícil determinar en número óptimo de clusters. Otra aproximación es el método Silhouette. Utiliza la distancia media intraclúster y la distancia media clúster más cercano para cada muestra. Cuanto mayor sea el valor de la puntuación, mejor será la estimación. Normalmente, las puntuaciones de silhoutte suben y luego bajan hasta alcanzar un número óptimo de clusters. Los valores se sitúan entre -1,0 y 1,0."
   ]
  },
  {
   "cell_type": "code",
   "execution_count": null,
   "metadata": {
    "id": "WJ-NIyVYC5D8"
   },
   "outputs": [],
   "source": [
    "# Método silhouette para identificar el número óptimo de clusters\n",
    "# ==============================================================================\n",
    "range_n_clusters = range(2, 15)\n",
    "valores_medios_silhouette = []\n",
    "\n",
    "for n_clusters in range_n_clusters:\n",
    "    modelo_kmeans = KMeans(\n",
    "        n_clusters   = n_clusters,\n",
    "        n_init       = 20,\n",
    "        random_state = 42\n",
    "    )\n",
    "    cluster_labels = modelo_kmeans.fit_predict(X_scaled)\n",
    "    silhouette_avg = silhouette_score(X_scaled, cluster_labels)\n",
    "    valores_medios_silhouette.append(silhouette_avg)\n",
    "\n",
    "fig, ax = plt.subplots(1, 1, figsize=(6, 3.84))\n",
    "ax.plot(range_n_clusters, valores_medios_silhouette, marker='o')\n",
    "ax.set_title(\"Evolución de media de los índices silhouette\")\n",
    "ax.set_xlabel('Número clusters')\n",
    "ax.set_ylabel('Media índices silhouette');"
   ]
  },
  {
   "cell_type": "markdown",
   "metadata": {
    "id": "9eIsHfM1_BO4"
   },
   "source": [
    "Podemos también dibujar los gráficos de silhouette para un conjunto de clusters. Los gráficos los haremos para 2, 3, 4, 5, y 6."
   ]
  },
  {
   "cell_type": "code",
   "execution_count": null,
   "metadata": {
    "id": "OwgpVRET_Ay7"
   },
   "outputs": [],
   "source": [
    "# Gráficos silhouette para identificar el número óptimo de clusters\n",
    "# ==============================================================================\n",
    "\n",
    "range_n_clusters = [2, 3, 4, 5, 6]\n",
    "\n",
    "for n_clusters in range_n_clusters:\n",
    "    # Crear un subplot con 1 fila y dos columnas\n",
    "    fig, (ax1, ax2) = plt.subplots(1, 2)\n",
    "    fig.set_size_inches(18, 7)\n",
    "\n",
    "    # El primer subplot es el gráfico silhouette\n",
    "    # El coeficiente de silhouette puede oscilar entre -1, 1 pero en este ejemplo\n",
    "    # todos se encuentran dentro de [-0.1, 1]\n",
    "    ax1.set_xlim([-0.1, 1])\n",
    "    # El (n_clusters+1)*10 sirve para insertar un espacio en blanco entre los\n",
    "    # gráficos de silhouette de los clusters individuales, para delimitarlos claramente.\n",
    "    ax1.set_ylim([0, len(X_scaled) + (n_clusters + 1) * 10])\n",
    "\n",
    "    # Inicializar el clusterer con n_clusters valor y un generador aleatorio\n",
    "    # aleatorio de 42 para la reproducibilidad.\n",
    "    clusterer = KMeans(n_clusters=n_clusters, random_state=42)\n",
    "    cluster_labels = clusterer.fit_predict(X_scaled)\n",
    "\n",
    "    # El silhouette_score da el valor medio de todas las muestras. Esto da una\n",
    "    # perspectiva de la densidad y separación de los clusters formados\n",
    "    silhouette_avg = silhouette_score(X_scaled, cluster_labels)\n",
    "    print(\n",
    "        \"Para n_clusters =\",\n",
    "        n_clusters,\n",
    "        \"La media de silhouette_score es :\",\n",
    "        silhouette_avg,\n",
    "    )\n",
    "\n",
    "    # Calcular las puntuaciones de silhouette de cada muestra\n",
    "    sample_silhouette_values = silhouette_samples(X_scaled, cluster_labels)\n",
    "\n",
    "    y_lower = 10\n",
    "    for i in range(n_clusters):\n",
    "        # Agregar las puntuaciones de silhouette de las muestras pertenecientes al\n",
    "        # cluster i, y ordénelas\n",
    "        ith_cluster_silhouette_values = sample_silhouette_values[cluster_labels == i]\n",
    "\n",
    "        ith_cluster_silhouette_values.sort()\n",
    "\n",
    "        size_cluster_i = ith_cluster_silhouette_values.shape[0]\n",
    "        y_upper = y_lower + size_cluster_i\n",
    "\n",
    "        color = cm.nipy_spectral(float(i) / n_clusters)\n",
    "        ax1.fill_betweenx(\n",
    "            np.arange(y_lower, y_upper),\n",
    "            0,\n",
    "            ith_cluster_silhouette_values,\n",
    "            facecolor=color,\n",
    "            edgecolor=color,\n",
    "            alpha=0.7,\n",
    "        )\n",
    "\n",
    "        # Etiquetar los gráficos de silhouette con sus números de cluster en el\n",
    "        # centro.\n",
    "        ax1.text(-0.05, y_lower + 0.5 * size_cluster_i, str(i))\n",
    "\n",
    "        # Calcular el nuevo y_lower para el siguiente gráfico\n",
    "        y_lower = y_upper + 10\n",
    "\n",
    "    ax1.set_title(\"El gráfico silhouette para varios clusters.\")\n",
    "    ax1.set_xlabel(\"Los valores del coeficiente de silueta\")\n",
    "    ax1.set_ylabel(\"Etiqueta del cluster\")\n",
    "\n",
    "    # La línea vertical para la puntuación media de silhouette de todos los valores\n",
    "    ax1.axvline(x=silhouette_avg, color=\"red\", linestyle=\"--\")\n",
    "\n",
    "    ax1.set_yticks([])\n",
    "    ax1.set_xticks([-0.1, 0, 0.2, 0.4, 0.6, 0.8, 1])\n",
    "\n",
    "    # El segundo plot dibuja los clusters formados\n",
    "    colors = cm.nipy_spectral(cluster_labels.astype(float) / n_clusters)\n",
    "    ax2.scatter(\n",
    "        X[:, 0], X[:, 1], marker=\".\", s=30, lw=0, alpha=0.7, c=colors, edgecolor=\"k\"\n",
    "    )\n",
    "\n",
    "\n",
    "    ax2.set_title(\"Visualización de los datos clusterizados.\")\n",
    "    ax2.set_xlabel(\"Espacio de características para la 1ª característica\")\n",
    "    ax2.set_ylabel(\"Espacio de características para la 2ª característica\")\n",
    "\n",
    "    plt.suptitle(\n",
    "        \"Análisis silhouette para la agrupación KMeans en datos de muestra con n_clusters = %d\"\n",
    "        % n_clusters,\n",
    "        fontsize=14,\n",
    "        fontweight=\"bold\",\n",
    "    )\n",
    "\n",
    "plt.show()"
   ]
  },
  {
   "cell_type": "markdown",
   "metadata": {
    "id": "VtH_v59KV2GW"
   },
   "source": [
    "En este ejemplo se utiliza el análisis de silhouette para elegir un valor óptimo para n_clusters. El gráfico de silhouette muestra que los valores n_clusters de 3, 5 y 6 son una mala elección para los datos dados debido a la presencia de clusters con puntuaciones de silueta por debajo de la media y también debido a las amplias fluctuaciones en el tamaño de los gráficos de silhouette. El análisis de siluetas es más ambivalente a la hora de decidir entre 2 y 4.\n",
    "\n",
    "También se puede visualizar el tamaño del conglomerado a partir del grosor del gráfico de silhouette. El gráfico de silhouette del cluster 0 cuando n_clusters es igual a 2, es más grande debido a la agrupación de los 3 subclusters en un cluster grande. Sin embargo, cuando n_clusters es igual a 4, todos los gráficos tienen más o menos el mismo grosor y, por lo tanto, el mismo tamaño, como puede comprobarse en el gráfico de dispersión etiquetado en t\n"
   ]
  },
  {
   "cell_type": "markdown",
   "metadata": {
    "collapsed": false,
    "id": "3QeUH5TlC5D9"
   },
   "source": [
    "# Cluster jerárquico\n",
    "\n",
    "Usaremos el dataset USArrests que contiene estadísticas sobre arrestos por cada 100,000 residentes por asalto, asesinato y violación en cada uno de los 50 estados de EE. UU. en 1973. También se da el porcentaje de la población que vive en áreas urbanas."
   ]
  },
  {
   "cell_type": "code",
   "execution_count": null,
   "metadata": {
    "id": "pQKkaZafC5D9"
   },
   "outputs": [],
   "source": [
    "# Tratamiento de datos\n",
    "# ==============================================================================\n",
    "import numpy as np\n",
    "import pandas as pd\n",
    "import statsmodels.api as sm\n",
    "import seaborn as sns\n",
    "\n",
    "# Gráficos\n",
    "# ==============================================================================\n",
    "import matplotlib.pyplot as plt\n",
    "from matplotlib import style\n",
    "style.use('ggplot') or plt.style.use('ggplot')\n",
    "\n",
    "# Preprocesado y modelado\n",
    "# ==============================================================================\n",
    "from sklearn.cluster import AgglomerativeClustering\n",
    "from scipy.cluster.hierarchy import dendrogram\n",
    "from sklearn.preprocessing import scale\n",
    "from sklearn.metrics import silhouette_score\n",
    "from sklearn.decomposition import PCA\n",
    "\n",
    "# Configuración warnings\n",
    "# ==============================================================================\n",
    "import warnings\n",
    "warnings.filterwarnings('ignore')"
   ]
  },
  {
   "cell_type": "markdown",
   "metadata": {
    "collapsed": false,
    "id": "EK2GyQm-C5D9"
   },
   "source": [
    "Datos"
   ]
  },
  {
   "cell_type": "code",
   "execution_count": null,
   "metadata": {
    "id": "6kAol_JAC5ED"
   },
   "outputs": [],
   "source": [
    "USArrests = sm.datasets.get_rdataset(\"USArrests\", \"datasets\")\n",
    "USArrests['StateAbbrv'] = [\"AL\", \"AK\", \"AZ\", \"AR\", \"CA\", \"CO\", \"CT\",\"DE\", \"FL\", \"GA\", \"HI\", \"ID\", \"IL\", \"IN\", \"IA\", \"KS\", \"KY\", \"LA\", \"ME\", \"MD\", \"MA\", \"MI\", \"MN\", \"MS\", \"MO\", \"MT\", \"NE\", \"NV\", \"NH\", \"NJ\",\"NM\", \"NY\", \"NC\", \"ND\", \"OH\", \"OK\", \"OR\", \"PA\", \"RI\", \"SC\",\"SD\", \"TN\", \"TX\", \"UT\", \"VT\", \"VA\", \"WA\", \"WV\", \"WI\", \"WY\"]\n",
    "\n",
    "datos = USArrests.data\n",
    "datos.head(4)"
   ]
  },
  {
   "cell_type": "markdown",
   "metadata": {
    "collapsed": false,
    "id": "ue9Ynij4C5ED"
   },
   "source": [
    "Los escalamos"
   ]
  },
  {
   "cell_type": "code",
   "execution_count": null,
   "metadata": {
    "id": "Do9YGeeTC5ED"
   },
   "outputs": [],
   "source": [
    "# Escalado de las variables\n",
    "# ==============================================================================\n",
    "datos_scaled = scale(X=datos, axis=0, with_mean=True, with_std=True)\n",
    "datos_scaled = pd.DataFrame(datos_scaled, columns=datos.columns, index=datos.index)\n",
    "datos_scaled.head(4)"
   ]
  },
  {
   "cell_type": "code",
   "execution_count": null,
   "metadata": {
    "id": "APHTcE9AC5ED"
   },
   "outputs": [],
   "source": [
    "def plot_dendrogram(model, **kwargs):\n",
    "    '''\n",
    "    Esta función extrae la información de un modelo AgglomerativeClustering\n",
    "    y representa su dendograma con la función dendogram de scipy.cluster.hierarchy\n",
    "    '''\n",
    "\n",
    "    counts = np.zeros(model.children_.shape[0])\n",
    "    n_samples = len(model.labels_)\n",
    "    for i, merge in enumerate(model.children_):\n",
    "        current_count = 0\n",
    "        for child_idx in merge:\n",
    "            if child_idx < n_samples:\n",
    "                current_count += 1  # leaf node\n",
    "            else:\n",
    "                current_count += counts[child_idx - n_samples]\n",
    "        counts[i] = current_count\n",
    "\n",
    "    linkage_matrix = np.column_stack([model.children_, model.distances_,\n",
    "                                      counts]).astype(float)\n",
    "\n",
    "    # Plot\n",
    "    dendrogram(linkage_matrix, **kwargs)"
   ]
  },
  {
   "cell_type": "markdown",
   "metadata": {
    "collapsed": false,
    "id": "DyWn04mmC5ED"
   },
   "source": [
    "Los parámetros de la clase `sklearn.cluster.AgglomerativeClustering` que destacan:\n",
    "\n",
    "- `n_clusters`: determina el número de clusters que se van a generar. En su lugar, su valor puede ser None si se quiere utilizar el criterio `distance_threshold` para crear los clusters o crecer todo el dendograma.\n",
    "- `distance_threshold`: distancia (altura del dendograma) a partir de la cual se dejan de unir los clusters. Indicar `distance_threshold=0` para crecer todo el árbol.\n",
    "- `compute_full_tree`: si se calcula la jerarquía completa de clusters. Debe ser `True` si `distance_threshold` es distinto de `None`.\n",
    "- `affinity`: métrica utilizada como distancia. Puede ser: “euclidean”, “l1”, “l2”, “manhattan”, “cosine”, or “precomputed”. Si se utiliza `linkage=“ward”`, solo se permite “euclidean”.\n",
    "- `linkage: tipo de linkage utilizado. Puede ser “ward”, “complete”, “average” o “single”.\n",
    "\n",
    "Al aplicar un hierarchical clustering aglomerativo se tiene que escoger una medida de distancia y un tipo de linkage. El concepto de linkage contempla la forma que tenemos de medir la distancia entre pares de grupos. Tenemos varias formas:\n",
    "- `\"ward\"`. La elección de los pares de clusters que se fusionan en cada etapa del *agglomerative hierarchical clustering* se fundamenta en el valor óptimo de una función objetivo, la cual puede ser cualquier función determinada por el analista. El método de *Ward's minimum variance* es un ejemplo específico en el cual el propósito es reducir al mínimo la suma total de la varianza intra-cluster. Durante cada fase, se identifican aquellos 2 clusters cuya fusión resulta en el menor aumento de la varianza total intra-cluster. Este indicador es análogo a la métrica que se busca minimizar en el algoritmo K-means.\n",
    "- `\"complete\"`. Se calcula la distancia entre todos los posibles pares formados por una observación del cluster A y una del cluster B. La mayor de todas ellas se selecciona como la distancia entre los dos clusters. Se trata de la medida más conservadora\n",
    "- `\"average\"`. Se calcula la distancia entre todos los posibles pares formados por una observación del cluster A y una del cluster B. El valor promedio de todas ellas se selecciona como la distancia entre los dos clusters.\n",
    "- `\"single\"`.Se calcula la distancia entre todos los posibles pares formados por una observación del cluster A y una del cluster B. La menor de todas ellas se selecciona como la distancia entre los dos clusters. Se trata de la medida menos conservadora\n",
    "\n",
    "A continuación, se comparan los resultados con los linkages complete, ward y average, utilizando la distancia euclídea como métrica de similitud."
   ]
  },
  {
   "cell_type": "code",
   "execution_count": null,
   "metadata": {
    "id": "3jLitY4qC5ED"
   },
   "outputs": [],
   "source": [
    "# Modelos\n",
    "# ==============================================================================\n",
    "modelo_hclust_complete = AgglomerativeClustering(\n",
    "    linkage  = 'complete',\n",
    "    distance_threshold = 0,\n",
    "    n_clusters         = None\n",
    ")\n",
    "modelo_hclust_complete.fit(X=datos_scaled)\n",
    "\n",
    "modelo_hclust_average = AgglomerativeClustering(\n",
    "    linkage  = 'average',\n",
    "    distance_threshold = 0,\n",
    "    n_clusters         = None\n",
    ")\n",
    "modelo_hclust_average.fit(X=datos_scaled)\n",
    "\n",
    "modelo_hclust_ward = AgglomerativeClustering(\n",
    "    linkage  = 'ward',\n",
    "    distance_threshold = 0,\n",
    "    n_clusters         = None\n",
    ")\n",
    "modelo_hclust_ward.fit(X=datos_scaled)"
   ]
  },
  {
   "cell_type": "code",
   "execution_count": null,
   "metadata": {
    "id": "jlf-FKscC5ED"
   },
   "outputs": [],
   "source": [
    "# Dendrogramas\n",
    "# ==============================================================================\n",
    "fig, axs = plt.subplots(3, 1, figsize=(8, 8))\n",
    "plot_dendrogram(modelo_hclust_average, labels=datos_scaled.index, color_threshold=0, ax=axs[0])\n",
    "axs[0].set_title(\"Linkage average\")\n",
    "plot_dendrogram(modelo_hclust_complete, labels=datos_scaled.index, color_threshold=0, ax=axs[1])\n",
    "axs[1].set_title(\"Linkage complete\")\n",
    "plot_dendrogram(modelo_hclust_ward, labels=datos_scaled.index, color_threshold=0, ax=axs[2])\n",
    "axs[2].set_title(\"Linkage ward\")\n",
    "plt.tight_layout();"
   ]
  },
  {
   "cell_type": "markdown",
   "metadata": {
    "collapsed": false,
    "id": "xEMhzuKvC5ED"
   },
   "source": [
    "## Número de clusters\n",
    "Una forma de decidir el número de clusters, puede ser inspeccionando el dendograma y elegir la altura a la que se corta para generar los clusters. Por ejemplo, para los resultados de distancia euclidea y linkage ward, parece que una buena altura sería 5 y tendríamos 4 clusters"
   ]
  },
  {
   "cell_type": "code",
   "execution_count": null,
   "metadata": {
    "id": "rVE98OxbC5EE"
   },
   "outputs": [],
   "source": [
    "fig, ax = plt.subplots(1, 1, figsize=(8, 4))\n",
    "altura_corte = 5\n",
    "plot_dendrogram(modelo_hclust_ward, labels=datos_scaled.index, color_threshold=altura_corte, ax=ax)\n",
    "ax.set_title(\"Linkage ward\")\n",
    "ax.axhline(y=altura_corte, c = 'black', linestyle='--', label='altura corte')\n",
    "ax.legend();"
   ]
  },
  {
   "cell_type": "markdown",
   "metadata": {
    "collapsed": false,
    "id": "Q-hmsjhyC5EE"
   },
   "source": [
    "Otra forma de identificar potenciales valores óptimos para el número de clusters en modelos hierarchical clustering es mediante los índices silhouette."
   ]
  },
  {
   "cell_type": "code",
   "execution_count": null,
   "metadata": {
    "id": "B13Mo1rzC5EE"
   },
   "outputs": [],
   "source": [
    "# Método silhouette para identificar el número óptimo de clusters\n",
    "# ==============================================================================\n",
    "range_n_clusters = range(2, 15)\n",
    "valores_medios_silhouette = []\n",
    "\n",
    "for n_clusters in range_n_clusters:\n",
    "    modelo = AgglomerativeClustering(\n",
    "        linkage    = 'ward',\n",
    "        n_clusters = n_clusters\n",
    "    )\n",
    "\n",
    "    cluster_labels = modelo.fit_predict(X_scaled)\n",
    "    silhouette_avg = silhouette_score(X_scaled, cluster_labels)\n",
    "    valores_medios_silhouette.append(silhouette_avg)\n",
    "\n",
    "fig, ax = plt.subplots(1, 1, figsize=(6, 3.84))\n",
    "ax.plot(range_n_clusters, valores_medios_silhouette, marker='o')\n",
    "ax.set_title(\"Evolución de media de los índices silhouette\")\n",
    "ax.set_xlabel('Número clusters')\n",
    "ax.set_ylabel('Media índices silhouette');"
   ]
  },
  {
   "cell_type": "code",
   "execution_count": null,
   "metadata": {
    "id": "YWxSITr7C5EE"
   },
   "outputs": [],
   "source": [
    "# Modelo final\n",
    "# ==============================================================================\n",
    "modelo_hclust_ward = AgglomerativeClustering(\n",
    "    linkage  = 'ward',\n",
    "    n_clusters = 4\n",
    ")\n",
    "modelo_hclust_ward.fit(X=X_scaled)"
   ]
  },
  {
   "cell_type": "markdown",
   "metadata": {
    "id": "r0IqC_isDh6n"
   },
   "source": [
    "# DBSCAN: Density-based spatial clustering of applications with noise\n"
   ]
  },
  {
   "cell_type": "code",
   "execution_count": null,
   "metadata": {
    "id": "lByVf078C5EE"
   },
   "outputs": [],
   "source": [
    "# Tratamiento de datos\n",
    "# ==============================================================================\n",
    "import numpy as np\n",
    "import pandas as pd\n",
    "from sklearn.datasets import make_blobs\n",
    "\n",
    "# Gráficos\n",
    "# ==============================================================================\n",
    "import matplotlib.pyplot as plt\n",
    "from matplotlib import style\n",
    "style.use('ggplot') or plt.style.use('ggplot')\n",
    "\n",
    "# Preprocesado y modelado\n",
    "# ==============================================================================\n",
    "from sklearn.cluster import DBSCAN\n",
    "from sklearn.preprocessing import scale\n",
    "from sklearn.metrics import silhouette_score\n",
    "\n",
    "# Configuración warnings\n",
    "# ==============================================================================\n",
    "import warnings\n",
    "warnings.filterwarnings('ignore')"
   ]
  },
  {
   "cell_type": "code",
   "execution_count": null,
   "metadata": {
    "id": "ZnnDPhIIC5EF"
   },
   "outputs": [],
   "source": [
    "datos = pd.read_csv('DBSCAN.csv')\n",
    "datos.head()"
   ]
  },
  {
   "cell_type": "markdown",
   "metadata": {
    "collapsed": false,
    "id": "W1rhwaCRC5EF"
   },
   "source": [
    "Con la clase `sklearn.cluster.DBSCAN` de Scikit-Learn se pueden entrenar modelos de clustering utilizando el algoritmo DBSCAN. Entre sus parámetros destacan:\n",
    "- `eps`: Distancia máxima entre dos muestras para que una se considere vecina de la otra. Define el *𝜖-neighborhood*\n",
    "- `min_samples`: El número de muestras (o peso total) en un vecindario para que un punto se considere un *core point*. Esto incluye el propio punto. Si `min_samples` se establece en un valor más alto, DBSCAN encontrará conglomerados más densos, mientras que si se establece en un valor más bajo, los conglomerados encontrados serán más dispersos.\n",
    "- `metric``: métrica utilizada como distancia. Puede ser: “euclidean”, “l1”, “l2”, “manhattan”, “cosine”, or “precomputed”. Por defecto es “euclidean”."
   ]
  },
  {
   "cell_type": "code",
   "execution_count": null,
   "metadata": {
    "id": "9tHrTXGQC5EF"
   },
   "outputs": [],
   "source": [
    "# Escalado de datos\n",
    "# ==============================================================================\n",
    "X = datos.drop(columns='shape').to_numpy()\n",
    "X_scaled = scale(X)"
   ]
  },
  {
   "cell_type": "code",
   "execution_count": null,
   "metadata": {
    "id": "OQQvukFHF-iH"
   },
   "outputs": [],
   "source": [
    "# Visualizado de datos\n",
    "# ==============================================================================\n",
    "\n",
    "fig, ax = plt.subplots(1, 1, figsize=(4.5, 4.5))\n",
    "\n",
    "ax.scatter(\n",
    "    x = X[:, 0],\n",
    "    y = X[:, 1],\n",
    "    c = 'black',\n",
    "    marker    = 'o',\n",
    "    edgecolor = 'black'\n",
    ")\n",
    "#ax.legend()\n",
    "ax.set_title('Nube de puntos iniciales');"
   ]
  },
  {
   "cell_type": "code",
   "execution_count": null,
   "metadata": {
    "id": "InfpLf4AC5EF"
   },
   "outputs": [],
   "source": [
    "# Modelo\n",
    "# ==============================================================================\n",
    "modelo_dbscan = DBSCAN(\n",
    "    eps          = 0.2,\n",
    "    min_samples  = 5,\n",
    "    metric       = 'euclidean',\n",
    ")\n",
    "\n",
    "modelo_dbscan.fit(X=X_scaled)"
   ]
  },
  {
   "cell_type": "code",
   "execution_count": null,
   "metadata": {
    "id": "msu_B9hiC5EF"
   },
   "outputs": [],
   "source": [
    "# Clasificación\n",
    "# ==============================================================================\n",
    "labels = modelo_dbscan.labels_\n",
    "\n",
    "fig, ax = plt.subplots(1, 1, figsize=(4.5, 4.5))\n",
    "\n",
    "ax.scatter(\n",
    "    x = X[:, 0],\n",
    "    y = X[:, 1],\n",
    "    c = labels,\n",
    "    marker    = 'o',\n",
    "    edgecolor = 'black'\n",
    ")\n",
    "\n",
    "# Los outliers se identifican con el label -1\n",
    "ax.scatter(\n",
    "    x = X[labels == -1, 0],\n",
    "    y = X[labels == -1, 1],\n",
    "    c = 'red',\n",
    "    marker    = 'o',\n",
    "    edgecolor = 'black',\n",
    "    label = 'outliers'\n",
    ")\n",
    "\n",
    "ax.legend()\n",
    "ax.set_title('Clusterings generados por DBSCAN');"
   ]
  },
  {
   "cell_type": "code",
   "execution_count": null,
   "metadata": {
    "id": "7YQveIDLC5EF"
   },
   "outputs": [],
   "source": [
    "# Número de clusters y observaciones \"outliers\"\n",
    "# ==============================================================================\n",
    "n_clusters = len(set(labels)) - (1 if -1 in labels else 0)\n",
    "n_noise    = list(labels).count(-1)\n",
    "\n",
    "print(f'Número de clusters encontrados: {n_clusters}')\n",
    "print(f'Número de outliers encontrados: {n_noise}')"
   ]
  },
  {
   "cell_type": "markdown",
   "metadata": {
    "id": "2ySZkl8yRS44"
   },
   "source": [
    "# Análisis de Componentes Principales y Clustering\n",
    "Volvemos con la base de datos de USArrests.\n",
    "\n",
    "Como hemos visto, para tener una visualización de las agrupaciones, tendríamos que reducir nuestro problema a dos o tres variables de entrada.\n",
    "\n",
    "En problemas en los que las variables de entrada estén muy correladas, podemos pensar en reducir el número de variables utilizando PCA (Análisis de Componentes Principales)\n",
    "\n",
    "Vamos a hacer un análisis exploratorio inicial viendo las correlaciones entre variables. esto nos dará pie a ver si podemos usar PCA más adelante."
   ]
  },
  {
   "cell_type": "code",
   "execution_count": null,
   "metadata": {
    "id": "7A6EB9Wf8gi_"
   },
   "outputs": [],
   "source": [
    "USArrests = sm.datasets.get_rdataset(\"USArrests\", \"datasets\")\n",
    "USArrests['StateAbbrv'] = [\"AL\", \"AK\", \"AZ\", \"AR\", \"CA\", \"CO\", \"CT\",\"DE\", \"FL\", \"GA\", \"HI\", \"ID\", \"IL\", \"IN\", \"IA\", \"KS\", \"KY\", \"LA\", \"ME\", \"MD\", \"MA\", \"MI\", \"MN\", \"MS\", \"MO\", \"MT\", \"NE\", \"NV\", \"NH\", \"NJ\",\"NM\", \"NY\", \"NC\", \"ND\", \"OH\", \"OK\", \"OR\", \"PA\", \"RI\", \"SC\",\"SD\", \"TN\", \"TX\", \"UT\", \"VT\", \"VA\", \"WA\", \"WV\", \"WI\", \"WY\"]\n",
    "\n",
    "datos = USArrests.data\n",
    "datos.head(4)"
   ]
  },
  {
   "cell_type": "code",
   "execution_count": null,
   "metadata": {
    "id": "zNZneJ1l9WFw"
   },
   "outputs": [],
   "source": [
    "# Escalado de las variables\n",
    "# ==============================================================================\n",
    "datos_scaled = scale(X=datos, axis=0, with_mean=True, with_std=True)\n",
    "datos_scaled_df = pd.DataFrame(datos_scaled, columns=datos.columns, index=datos.index)\n",
    "datos_scaled_df.head(4)"
   ]
  },
  {
   "cell_type": "code",
   "execution_count": null,
   "metadata": {
    "id": "w4BKxf8wC5D6"
   },
   "outputs": [],
   "source": [
    "estados = datos.index\n",
    "corr_df = datos.corr()\n",
    "etiquetas = corr_df.columns\n",
    "\n",
    "mask_ut=np.triu(np.ones(corr_df.shape)).astype(bool)\n",
    "sns.heatmap(corr_df, mask=mask_ut, annot=True, cmap=\"coolwarm\")"
   ]
  },
  {
   "cell_type": "markdown",
   "metadata": {
    "id": "YBXEhvPUgCFi"
   },
   "source": [
    "Por lo que se vé, existe una correlación significativa entre algunas variables."
   ]
  },
  {
   "cell_type": "markdown",
   "metadata": {
    "collapsed": false,
    "id": "PxnOXaEdC5EE"
   },
   "source": [
    "## PCA y visualización\n",
    "En este problema tenemos cuatro variables de entrada. Para poder representar gráficamente estos datos, necesitamos que sean dos o tres variables. Por este motivo vamos a transformar los datos de entrada mediante PCA de dos dimensiones."
   ]
  },
  {
   "cell_type": "code",
   "execution_count": null,
   "metadata": {
    "id": "tyFyyE5NC5EE"
   },
   "outputs": [],
   "source": [
    "np.set_printoptions(precision=2)\n",
    "\n",
    "X = datos_scaled_df.values.squeeze()\n",
    "\n",
    "pca = PCA(n_components=2)\n",
    "\n",
    "X_trans = pca.fit_transform(X)\n",
    "\n",
    "df_pca = pd.DataFrame(X_trans, columns=['PC1','PC2'])\n",
    "df_pca.head()"
   ]
  },
  {
   "cell_type": "code",
   "execution_count": null,
   "metadata": {
    "id": "1HwN9gmTC5EE"
   },
   "outputs": [],
   "source": [
    "std = df_pca.describe().transpose()[\"std\"]\n",
    "print(f\"Proporción de varianza explicada: {pca.explained_variance_ratio_}\")\n",
    "print(f\"Proporción acumulada: {np.cumsum(pca.explained_variance_ratio_)}\")"
   ]
  },
  {
   "cell_type": "markdown",
   "metadata": {
    "id": "uK8nylsWgqvC"
   },
   "source": [
    "Como podemos observar, con dos variables, podemos contemplar el 87% de la varianza explicada del problema. Esto nos permite dibujar las muestras en las nuevas coordenadas PC1 y PC2 como aparece a continuación."
   ]
  },
  {
   "cell_type": "code",
   "execution_count": null,
   "metadata": {
    "id": "bttsoKFKe1Bx"
   },
   "outputs": [],
   "source": [
    "sns.scatterplot(data=df_pca, x=\"PC1\", y=\"PC2\")"
   ]
  },
  {
   "cell_type": "markdown",
   "metadata": {
    "id": "qbxjIrfqjIv-"
   },
   "source": [
    "Cuando se utiliza PCA, el gráfico biplot nos da información de cómo se ha realizado la transformación. Nos muestra las muestras en el espacio transformado bidimensional, junto con unos vectores en los que se representan las variables de entrada. De los vectores nos fijamos en:\n",
    "* **Ángulo**: cuanto más paralelo es un vector al eje de una componente, más ha contribuido a la creación de la misma. Con ello obtienes información sobre qué variable(s) ha sido más determinante para crear cada componente, y si entre las variables (y cuales) hay correlaciones. Ángulos pequeños entre vectores representa alta correlación entre las variables implicadas (observaciones con valores altos en una de esas variables tendrá valores altos en la variable o variables correlacionadas); ángulos rectos representan falta de correlación, y ángulos opuestos representan correlación negativa (una observación con valores altos en una de las variables irá acompañado de valores bajos en la otra).\n",
    "* **Longitud**: cuanto mayor la longitud de un vector relacionado con x variable, mayor variabilidad de dicha variable está contenida en la representación de las dos componentes del biplot, es decir, mejor está representada su información en el gráfico."
   ]
  },
  {
   "cell_type": "code",
   "execution_count": null,
   "metadata": {
    "id": "II8MKPzhC5EE"
   },
   "outputs": [],
   "source": [
    "# Función para dibujar un gráfico biplot\n",
    "# ==============================================================================\n",
    "\n",
    "def biplot(scaled_data, fitted_pca, original_dim_labels, point_labels):\n",
    "\n",
    "    pca_results = fitted_pca.transform(scaled_data)\n",
    "    pca1_scores = pca_results[:,0]\n",
    "    pca2_scores = pca_results[:,1]\n",
    "\n",
    "    # plot each point in 2D post-PCA space\n",
    "    plt.scatter(pca1_scores,pca2_scores)\n",
    "\n",
    "    # label each point\n",
    "    for i in range(len(pca1_scores)):\n",
    "        plt.text(pca1_scores[i],pca2_scores[i], point_labels[i])\n",
    "\n",
    "    #for each original dimension, plot what an increase of 1 in that dimension means in this space\n",
    "    for i in range(fitted_pca.components_.shape[1]):\n",
    "        raw_dims_delta_on_pca1 = fitted_pca.components_[0,i]\n",
    "        raw_dims_delta_on_pca2 = fitted_pca.components_[1,i]\n",
    "        plt.arrow(0, 0, raw_dims_delta_on_pca1, raw_dims_delta_on_pca2 ,color = 'r',alpha = 1)\n",
    "        plt.text(raw_dims_delta_on_pca1*1.1, raw_dims_delta_on_pca2*1.1, original_dim_labels[i], color = 'g', ha = 'center', va = 'center')\n",
    "\n",
    "\n",
    "\n"
   ]
  },
  {
   "cell_type": "markdown",
   "metadata": {
    "id": "mSzJaJbVkTAY"
   },
   "source": [
    "Dibujamos el gráfico biplot."
   ]
  },
  {
   "cell_type": "code",
   "execution_count": null,
   "metadata": {
    "id": "r_rYqWWYAo-p"
   },
   "outputs": [],
   "source": [
    "plt.figure(figsize=(8.5,8.5))\n",
    "plt.xlim(-3.5,3.5)\n",
    "plt.ylim(-3.5,3.5)\n",
    "plt.xlabel(\"PC{}\".format(1))\n",
    "plt.ylabel(\"PC{}\".format(2))\n",
    "plt.title(\"Gráfico biplot para PCA\")\n",
    "plt.grid()\n",
    "biplot(datos_scaled, PCA().fit(datos_scaled),\n",
    "       original_dim_labels=datos.columns,\n",
    "       point_labels=USArrests['StateAbbrv'])"
   ]
  },
  {
   "cell_type": "markdown",
   "metadata": {
    "id": "NGC-0z8ckdbY"
   },
   "source": [
    "Vemos como las variables `UrbanPop` y `Murder`no tienen prácticamente correlación. Igualmente `Murder`y `Assault`sí que están correladas."
   ]
  },
  {
   "cell_type": "markdown",
   "metadata": {
    "id": "M9TrQcOqhNho"
   },
   "source": [
    "Visualmente es complicado determinar cuantas agrupaciones tenemos, usaremos el método silhouette que identifica el número óptimo de clusters."
   ]
  },
  {
   "cell_type": "code",
   "execution_count": null,
   "metadata": {
    "id": "ZEcGlsNme1Bx"
   },
   "outputs": [],
   "source": [
    "# Método silhouette para identificar el número óptimo de clusters (ahora con los coeficientes de la PCA)\n",
    "# ==============================================================================\n",
    "range_n_clusters = range(2, 15)\n",
    "valores_medios_silhouette = []\n",
    "\n",
    "for n_clusters in range_n_clusters:\n",
    "    modelo_kmeans = KMeans(\n",
    "        n_clusters   = n_clusters,\n",
    "        n_init       = 20,\n",
    "        random_state = 42\n",
    "    )\n",
    "    cluster_labels = modelo_kmeans.fit_predict(X_trans)\n",
    "    silhouette_avg = silhouette_score(X_trans, cluster_labels)\n",
    "    valores_medios_silhouette.append(silhouette_avg)\n",
    "\n",
    "fig, ax = plt.subplots(1, 1, figsize=(6, 3.84))\n",
    "ax.plot(range_n_clusters, valores_medios_silhouette, marker='o')\n",
    "ax.set_title(\"Evolución de media de los índices silhouette (PCA)\")\n",
    "ax.set_xlabel('Número clusters')\n",
    "ax.set_ylabel('Media índices silhouette');"
   ]
  },
  {
   "cell_type": "markdown",
   "metadata": {
    "id": "j-eJ2hG5e1Bx"
   },
   "source": [
    "Parece que el número ideal de clusters es de 2, pero 4 tampoco es un mal resultado. Elegimos 4 para que nos dé más juego a la hora del análisis final. Vamos a ver el resultado con un número de clusters de 4 y los métodos KMeans y DBSCAN."
   ]
  },
  {
   "cell_type": "code",
   "execution_count": null,
   "metadata": {
    "id": "QUPau2J3e1By"
   },
   "outputs": [],
   "source": [
    "fig, ax = plt.subplots(1, 2, figsize=(10, 4))\n",
    "\n",
    "# Clustering Kmeans\n",
    "\n",
    "y_predict_Kmeans = KMeans(n_clusters=4, n_init=25, random_state=42).fit_predict(X=X_trans)\n",
    "\n",
    "for i in np.unique(y_predict_Kmeans):\n",
    "    ax[0].scatter(\n",
    "        x = X_trans[y_predict_Kmeans == i, 0],\n",
    "        y = X_trans[y_predict_Kmeans == i, 1],\n",
    "        c = plt.rcParams['axes.prop_cycle'].by_key()['color'][i],\n",
    "        marker    = 'o',\n",
    "        edgecolor = 'black',\n",
    "        label= f\"Cluster {i}\"\n",
    "    )\n",
    "ax[0].set_title('Clusters encontrados con K-Means')\n",
    "ax[0].legend();\n",
    "\n",
    "# Clustering DBSCAN\n",
    "\n",
    "modelo_dbscan = DBSCAN(eps = 0.6, min_samples  = 5, metric = 'euclidean')\n",
    "y_predict = modelo_dbscan.fit(X=X_trans)\n",
    "\n",
    "labels = modelo_dbscan.labels_\n",
    "ax[1].scatter(\n",
    "    x = X_trans[:, 0],\n",
    "    y = X_trans[:, 1],\n",
    "    c = labels,\n",
    "    marker    = 'o',\n",
    "    edgecolor = 'black'\n",
    ")\n",
    "\n",
    "\n",
    "# Los outliers se identifican con el label -1\n",
    "ax[1].scatter(\n",
    "    x = X_trans[labels == -1, 0],\n",
    "    y = X_trans[labels == -1, 1],\n",
    "    c = 'red',\n",
    "    marker    = 'o',\n",
    "    edgecolor = 'black',\n",
    "    label = 'outliers'\n",
    ")\n",
    "\n",
    "ax[1].set_title(f'DBSCAN (clusters = {len(set(labels)) - (1 if -1 in labels else 0)})')\n",
    "ax[1].legend();\n"
   ]
  },
  {
   "cell_type": "markdown",
   "metadata": {
    "id": "41H5jUZ6l3Kl"
   },
   "source": [
    "Ahora, nuestro interés es caracterizar estos cuatros grupos que nos han salido usando alguna estadísticas descriptiva."
   ]
  },
  {
   "cell_type": "code",
   "execution_count": null,
   "metadata": {
    "id": "iFkxMHaIBvaO"
   },
   "outputs": [],
   "source": [
    "datos2 = datos.copy()\n",
    "datos2[\"Cluster\"]=y_predict_Kmeans\n",
    "\n",
    "aux=datos2.columns.tolist()\n",
    "aux[0:len(aux)-1]\n",
    "\n",
    "for col in aux[0:len(aux)-1]:\n",
    "    sns.boxplot(data=datos2, x=\"Cluster\", y=col, fill=False, gap=.1)\n",
    "    plt.title(f\"Boxplot de la variable {col}\")\n",
    "    plt.show()\n",
    "#    grid.map(plt.hist, cluster,color='red')"
   ]
  },
  {
   "cell_type": "markdown",
   "metadata": {
    "id": "ebUNg618mCrb"
   },
   "source": [
    "¿Podemos sacar conclusiones?"
   ]
  },
  {
   "cell_type": "markdown",
   "metadata": {
    "id": "1uGTfB7ZLLm2"
   },
   "source": [
    "# GMMs: Gaussian mixture models\n",
    "\n",
    "Un Gaussian Mixture model es un modelo probabilístico en el que se considera que las observaciones siguen una distribución probabilística formada por la combinación de múltiples distribuciones normales (componentes). En su aplicación al clustering, puede entenderse como una generalización de K-means con la que, en lugar de asignar cada observación a un único cluster, se obtiene una probabilidad de pertenencia a cada uno.\n",
    "\n",
    "Para estimar los parámetros que definen la función de distribución de cada cluster (media y matriz de covarianza) se recurre al algoritmo de *Expectation-Maximization* (EM). Una vez aprendidos los parámetros, se puede calcular la probabilidad que tiene cada observación de pertenecer a cada cluster y asignarla a aquel con mayor probabilidad."
   ]
  },
  {
   "cell_type": "code",
   "execution_count": null,
   "metadata": {
    "id": "IPyqkHA2Loa-"
   },
   "outputs": [],
   "source": [
    "# Tratamiento de datos\n",
    "# ==============================================================================\n",
    "import numpy as np\n",
    "import pandas as pd\n",
    "from sklearn.datasets import make_blobs\n",
    "\n",
    "# Gráficos\n",
    "# ==============================================================================\n",
    "import matplotlib.pyplot as plt\n",
    "import matplotlib as mpl\n",
    "from matplotlib.patches import Ellipse\n",
    "from matplotlib import style\n",
    "style.use('ggplot') or plt.style.use('ggplot')\n",
    "\n",
    "# Preprocesado y modelado\n",
    "# ==============================================================================\n",
    "from sklearn.mixture import GaussianMixture\n",
    "from sklearn.preprocessing import scale\n",
    "from sklearn.metrics import silhouette_score\n",
    "\n",
    "# Configuración warnings\n",
    "# ==============================================================================\n",
    "import warnings\n",
    "warnings.filterwarnings('ignore')"
   ]
  },
  {
   "cell_type": "code",
   "execution_count": null,
   "metadata": {
    "id": "DGQhFAtuLxGN"
   },
   "outputs": [],
   "source": [
    "# Simulación de datos\n",
    "# ==============================================================================\n",
    "X, y = make_blobs(\n",
    "        n_samples    = 300,\n",
    "        n_features   = 2,\n",
    "        centers      = 4,\n",
    "        cluster_std  = 0.60,\n",
    "        shuffle      = True,\n",
    "        random_state = 0\n",
    "       )\n",
    "\n",
    "fig, ax = plt.subplots(1, 1, figsize=(6, 3.84))\n",
    "ax.scatter(\n",
    "    x = X[:, 0],\n",
    "    y = X[:, 1],\n",
    "    c = 'white',\n",
    "    marker    = 'o',\n",
    "    edgecolor = 'black',\n",
    ")\n",
    "ax.set_title('Datos simulados');"
   ]
  },
  {
   "cell_type": "markdown",
   "metadata": {
    "id": "y6Ih_0OtL_6Y"
   },
   "source": [
    "Con la clase `sklearn.mixture.GaussianMixture` de Scikit-Learn se pueden entrenar modelos de GMMs utilizando el algoritmo expectation-maximization (EM) . Entre sus parámetros destacan:\n",
    "\n",
    "- `n_components`: número de componentes (en este caso clusters) que forman el modelo.\n",
    "\n",
    "- `covariance_type`: tipo de matriz de covarianza (‘full’ (default), ‘tied’, ‘diag’, ‘spherical’).\n",
    "\n",
    "- `max_iter`: número máximo de iteraciones permitidas.\n",
    "\n",
    "- `random_state`: semilla para garantizar la reproducibilidad de los resultados."
   ]
  },
  {
   "cell_type": "code",
   "execution_count": null,
   "metadata": {
    "id": "KeHLVPRYMxFj"
   },
   "outputs": [],
   "source": [
    "# Modelo\n",
    "# ==============================================================================\n",
    "modelo_gmm = GaussianMixture(n_components=4, covariance_type='full', random_state=42)\n",
    "modelo_gmm.fit(X=X)"
   ]
  },
  {
   "cell_type": "markdown",
   "metadata": {
    "id": "9PEztIKgM8A0"
   },
   "source": [
    "El objeto devuelto por GaussianMixture contiene entre otros datos: el peso de cada componente (cluster) en el modelo (`weights_`), su media (`means_`) y matriz de covarianza (`covariances_`).La estructura de esta última depende del tipo de matriz empleada en el ajuste del modelo (`covariance_type`)."
   ]
  },
  {
   "cell_type": "code",
   "execution_count": null,
   "metadata": {
    "id": "jnXA8_99NZbc"
   },
   "outputs": [],
   "source": [
    "# Media de cada componente\n",
    "modelo_gmm.means_"
   ]
  },
  {
   "cell_type": "code",
   "execution_count": null,
   "metadata": {
    "id": "QbGUPPGkNeQ-"
   },
   "outputs": [],
   "source": [
    "# Matriz de covarianza de cada componente\n",
    "modelo_gmm.covariances_"
   ]
  },
  {
   "cell_type": "markdown",
   "metadata": {
    "id": "OAlg-CYFN-fI"
   },
   "source": [
    "Una vez entrenado el modelo GMMs, se puede predecir la probabilidad que tiene cada observación de pertenecer a cada una de las componentes (clusters). Para obtener la clasificación final, se asigna a la componente con mayor probabilidad."
   ]
  },
  {
   "cell_type": "code",
   "execution_count": null,
   "metadata": {
    "id": "M-Y7KCwYN_lO"
   },
   "outputs": [],
   "source": [
    "# Probabilidades\n",
    "# ==============================================================================\n",
    "# Cada fila es una observación y cada columna la probabilidad de pertenecer a\n",
    "# cada una de las componentes.\n",
    "probabilidades = modelo_gmm.predict_proba(X)\n",
    "probabilidades"
   ]
  },
  {
   "cell_type": "code",
   "execution_count": null,
   "metadata": {
    "id": "tZBAajtSOGpa"
   },
   "outputs": [],
   "source": [
    "# Clasificación (asignación a la componente de mayor probabilidad)\n",
    "# ==============================================================================\n",
    "# Cada fila es una observación y cada columna la probabilidad de pertenecer a\n",
    "# cada una de las componentes.\n",
    "clasificacion = modelo_gmm.predict(X)\n",
    "clasificacion"
   ]
  },
  {
   "cell_type": "code",
   "execution_count": null,
   "metadata": {
    "id": "7-bjj_BqORVz"
   },
   "outputs": [],
   "source": [
    "# Representación gráfica\n",
    "# ==============================================================================\n",
    "# Codigo obtenido de:\n",
    "# https://github.com/amueller/COMS4995-s20/tree/master/slides/aml-14-clustering-mixture-models\n",
    "def make_ellipses(gmm, ax):\n",
    "    for n in range(gmm.n_components):\n",
    "        if gmm.covariance_type == 'full':\n",
    "            covariances = gmm.covariances_[n]\n",
    "        elif gmm.covariance_type == 'tied':\n",
    "            covariances = gmm.covariances_\n",
    "        elif gmm.covariance_type == 'diag':\n",
    "            covariances = np.diag(gmm.covariances_[n])\n",
    "        elif gmm.covariance_type == 'spherical':\n",
    "            covariances = np.eye(gmm.means_.shape[1]) * gmm.covariances_[n]\n",
    "        v, w = np.linalg.eigh(covariances)\n",
    "        u = w[0] / np.linalg.norm(w[0])\n",
    "        angle = np.arctan2(u[1], u[0])\n",
    "        angle = 180 * angle / np.pi  # convert to degrees\n",
    "        v = 2. * np.sqrt(2.) * np.sqrt(v)\n",
    "\n",
    "        for i in range(1,3):\n",
    "            ell = mpl.patches.Ellipse(gmm.means_[n], i*v[0], i*v[1],\n",
    "                                      angle=180 + angle, color=\"blue\")\n",
    "            ell.set_clip_box(ax.bbox)\n",
    "            ell.set_alpha(0.1)\n",
    "            ax.add_artist(ell)\n",
    "\n",
    "\n",
    "fig, axs = plt.subplots(1, 2, figsize=(12, 3.84))\n",
    "\n",
    "# Distribución de probabilidad de cada componente\n",
    "for i in np.unique(clasificacion):\n",
    "    axs[0].scatter(\n",
    "        x = X[clasificacion == i, 0],\n",
    "        y = X[clasificacion == i, 1],\n",
    "        c = plt.rcParams['axes.prop_cycle'].by_key()['color'][i],\n",
    "        marker    = 'o',\n",
    "        edgecolor = 'black',\n",
    "        label= f\"Cluster {i}\"\n",
    "    )\n",
    "\n",
    "make_ellipses(modelo_gmm, ax = axs[0])\n",
    "axs[0].set_title('Distribución de prob. de cada componente')\n",
    "axs[0].legend()\n",
    "\n",
    "# Distribución de probabilidad del modelo completo\n",
    "xs = np.linspace(min(X[:, 0]), max(X[:, 0]), 1000)\n",
    "ys = np.linspace(min(X[:, 1]), max(X[:, 1]), 1000)\n",
    "xx, yy = np.meshgrid(xs, ys)\n",
    "scores = modelo_gmm.score_samples(np.c_[xx.ravel(), yy.ravel()], )\n",
    "axs[1].scatter(X[:, 0], X[:, 1], s=5, alpha=.6, c=plt.cm.tab10(clasificacion))\n",
    "scores = np.exp(scores) # Las probabilidades están en log\n",
    "axs[1].contour(\n",
    "    xx, yy, scores.reshape(xx.shape),\n",
    "    levels=np.percentile(scores, np.linspace(0, 100, 10))[1:-1]\n",
    ")\n",
    "axs[1].set_title('Distribución de prob. del modelo completo');"
   ]
  },
  {
   "cell_type": "markdown",
   "metadata": {
    "id": "wy2hk91bOeCx"
   },
   "source": [
    "## Número de clusters\n",
    "Dado que los modelos GMM son modelos probabilísticos, se puede recurrir a métricas como el Akaike information criterion (AIC) o Bayesian information criterion (BIC) para identificar cómo de bien se ajustan los datos observados a modelo creado."
   ]
  },
  {
   "cell_type": "code",
   "execution_count": null,
   "metadata": {
    "id": "TSgxN9idOoTA"
   },
   "outputs": [],
   "source": [
    "n_components = range(1, 21)\n",
    "valores_bic = []\n",
    "valores_aic = []\n",
    "\n",
    "for i in n_components:\n",
    "    modelo = GaussianMixture(n_components=i, covariance_type=\"full\")\n",
    "    modelo = modelo.fit(X)\n",
    "    valores_bic.append(modelo.bic(X))\n",
    "    valores_aic.append(modelo.aic(X))\n",
    "\n",
    "fig, ax = plt.subplots(1, 1, figsize=(6, 3.84))\n",
    "ax.plot(n_components, valores_bic, label='BIC')\n",
    "ax.plot(n_components, valores_aic, label='AIC')\n",
    "ax.set_title(\"Valores BIC y AIC\")\n",
    "ax.set_xlabel(\"Número componentes\")\n",
    "ax.legend();"
   ]
  },
  {
   "cell_type": "code",
   "execution_count": null,
   "metadata": {
    "id": "_0J6Mu5HOxNj"
   },
   "outputs": [],
   "source": [
    "print(f\"Número óptimo acorde al BIC: {range(1, 21)[np.argmin(valores_bic)]}\")\n",
    "print(f\"Número óptimo acorde al AIC: {range(1, 21)[np.argmin(valores_aic)]}\")"
   ]
  }
 ],
 "metadata": {
  "colab": {
   "provenance": [],
   "toc_visible": true
  },
  "kernelspec": {
   "display_name": "Python 3",
   "language": "python",
   "name": "python3"
  },
  "language_info": {
   "codemirror_mode": {
    "name": "ipython",
    "version": 3
   },
   "file_extension": ".py",
   "mimetype": "text/x-python",
   "name": "python",
   "nbconvert_exporter": "python",
   "pygments_lexer": "ipython3",
   "version": "3.9.6"
  }
 },
 "nbformat": 4,
 "nbformat_minor": 0
}
