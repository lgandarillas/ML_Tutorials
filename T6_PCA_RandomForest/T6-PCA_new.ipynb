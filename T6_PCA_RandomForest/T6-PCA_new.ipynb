{
 "cells": [
  {
   "cell_type": "markdown",
   "metadata": {
    "id": "s_jEsE8W6HbZ"
   },
   "source": [
    "# PCA\n",
    "\n",
    "En este tutorial trabajaremos con PCA (Análisis de Componentes Principales)."
   ]
  },
  {
   "cell_type": "code",
   "execution_count": null,
   "metadata": {
    "executionInfo": {
     "elapsed": 5860,
     "status": "ok",
     "timestamp": 1741979783114,
     "user": {
      "displayName": "MIGUEL ANGEL PATRICIO GUISADO",
      "userId": "13328848534964446801"
     },
     "user_tz": -60
    },
    "id": "8W2YIMIi7SyF"
   },
   "outputs": [],
   "source": [
    "# Tratamiento de datos\n",
    "# ==============================================================================\n",
    "import numpy as np\n",
    "import pandas as pd\n",
    "\n",
    "# Gráficos\n",
    "# ==============================================================================\n",
    "import matplotlib.pyplot as plt\n",
    "import seaborn as sns\n",
    "\n",
    "\n",
    "# Preprocesado y modelado\n",
    "# ==============================================================================\n",
    "from sklearn.datasets import load_breast_cancer\n",
    "from sklearn.decomposition import PCA\n",
    "from sklearn.linear_model import LogisticRegression\n",
    "from sklearn.model_selection import RandomizedSearchCV, KFold, GridSearchCV, cross_val_score\n",
    "from sklearn.model_selection import train_test_split\n",
    "from sklearn.preprocessing import StandardScaler\n",
    "from sklearn.feature_selection import SelectKBest, f_regression\n",
    "from sklearn.pipeline import Pipeline\n",
    "from sklearn.metrics import accuracy_score\n",
    "from sklearn import metrics\n",
    "import multiprocessing\n",
    "\n",
    "from scipy.stats import randint as sp_randint\n",
    "\n",
    "# Configuración warnings\n",
    "# ==============================================================================\n",
    "import warnings\n",
    "warnings.filterwarnings('once')"
   ]
  },
  {
   "cell_type": "markdown",
   "metadata": {
    "id": "j2C8W24O4t5p"
   },
   "source": [
    "Utilizaremos el dataset de cáncer de mama (breast cancer)"
   ]
  },
  {
   "cell_type": "code",
   "execution_count": null,
   "metadata": {
    "colab": {
     "base_uri": "https://localhost:8080/"
    },
    "executionInfo": {
     "elapsed": 12,
     "status": "ok",
     "timestamp": 1741979786394,
     "user": {
      "displayName": "MIGUEL ANGEL PATRICIO GUISADO",
      "userId": "13328848534964446801"
     },
     "user_tz": -60
    },
    "id": "LqBnyHYW4t5r",
    "outputId": "8db237de-e95f-4a41-9aef-8baa7aed3ebb"
   },
   "outputs": [],
   "source": [
    "data = load_breast_cancer()"
   ]
  },
  {
   "cell_type": "code",
   "execution_count": null,
   "metadata": {
    "colab": {
     "base_uri": "https://localhost:8080/"
    },
    "executionInfo": {
     "elapsed": 13,
     "status": "ok",
     "timestamp": 1741979788609,
     "user": {
      "displayName": "MIGUEL ANGEL PATRICIO GUISADO",
      "userId": "13328848534964446801"
     },
     "user_tz": -60
    },
    "id": "0I-UlxP74t5r",
    "outputId": "43a58c71-801f-4014-818e-98a6cbf6c7e9"
   },
   "outputs": [],
   "source": [
    "print(data.DESCR)"
   ]
  },
  {
   "cell_type": "code",
   "execution_count": null,
   "metadata": {
    "colab": {
     "base_uri": "https://localhost:8080/",
     "height": 464
    },
    "executionInfo": {
     "elapsed": 55,
     "status": "ok",
     "timestamp": 1741979800681,
     "user": {
      "displayName": "MIGUEL ANGEL PATRICIO GUISADO",
      "userId": "13328848534964446801"
     },
     "user_tz": -60
    },
    "id": "swfz5Sm64t5r",
    "outputId": "8a20a38f-a779-4bcd-ce11-6c22c20d2c80"
   },
   "outputs": [],
   "source": [
    "# Pasamos a un Data frame\n",
    "df = pd.DataFrame(data.data, columns=data.feature_names)\n",
    "# Añadimos una columna con la variable objetivo\n",
    "df['target'] = data.target\n",
    "# Mostramos las primeras filas\n",
    "df.head()"
   ]
  },
  {
   "cell_type": "code",
   "execution_count": null,
   "metadata": {
    "colab": {
     "base_uri": "https://localhost:8080/"
    },
    "executionInfo": {
     "elapsed": 8,
     "status": "ok",
     "timestamp": 1741979814197,
     "user": {
      "displayName": "MIGUEL ANGEL PATRICIO GUISADO",
      "userId": "13328848534964446801"
     },
     "user_tz": -60
    },
    "id": "YRDxh9I14t5r",
    "outputId": "f0445924-fad8-4ff2-972a-3663938e6e7f"
   },
   "outputs": [],
   "source": [
    "df.info()"
   ]
  },
  {
   "cell_type": "markdown",
   "metadata": {
    "collapsed": false,
    "id": "JdHHQiq_4t5r"
   },
   "source": [
    "Vemos como todas las variables de entradas son `float64`. Además, no faltan valores, todas las columnas tienen 569 valores."
   ]
  },
  {
   "cell_type": "code",
   "execution_count": null,
   "metadata": {
    "colab": {
     "base_uri": "https://localhost:8080/",
     "height": 178
    },
    "executionInfo": {
     "elapsed": 5,
     "status": "ok",
     "timestamp": 1741979823144,
     "user": {
      "displayName": "MIGUEL ANGEL PATRICIO GUISADO",
      "userId": "13328848534964446801"
     },
     "user_tz": -60
    },
    "id": "4JbslzWz4t5s",
    "outputId": "29e396ab-b56b-4fc8-f356-1dfd5c32392b"
   },
   "outputs": [],
   "source": [
    "# Número de muestras por clase\n",
    "# ==============================================================================\n",
    "df.target.value_counts().sort_index()"
   ]
  },
  {
   "cell_type": "markdown",
   "metadata": {
    "collapsed": false,
    "id": "xiH8Sh0R4t5s"
   },
   "source": [
    "Tenemos 212 muestras que no tienen cáncer y 357 que sí tienen cáncer. Aunque están un poco desbalanceadas las clases, lo vamos a dejar así."
   ]
  },
  {
   "cell_type": "code",
   "execution_count": null,
   "metadata": {
    "executionInfo": {
     "elapsed": 12,
     "status": "ok",
     "timestamp": 1741979828931,
     "user": {
      "displayName": "MIGUEL ANGEL PATRICIO GUISADO",
      "userId": "13328848534964446801"
     },
     "user_tz": -60
    },
    "id": "cQlMEzyh4UvP"
   },
   "outputs": [],
   "source": [
    "# Pasamos de dataframe a numpy para poder trabajar con sklearn\n",
    "X = df.drop('target', axis=1)\n",
    "y = df['target']\n",
    "# dividimos las muestras en entrenamiento y test\n",
    "X_train, X_test, y_train, y_test = train_test_split(X, y,test_size=0.33, random_state=42, shuffle = True)"
   ]
  },
  {
   "cell_type": "markdown",
   "metadata": {
    "id": "PpkoVv3l-GjJ"
   },
   "source": [
    "## LogisticRegression sin PCA\n",
    "Los parámetros más importantes de la implantación de sklearn (`LogisticRegression`) son:\n",
    "\n",
    "- `penalty`: El tipo de aplicación de regularización. Sus valores pueden ser:{None, 'l2' (por defecto), 'l1', 'elascticnet'}\n",
    "- `C`: (por defecto 1.0) Inverso de la fuerza de regularización; Valores más pequeños especifican una regularización más fuerte.\n",
    "- `solver`: Algoritmo a utilizar en el problema de optimización. Sus valores pueden ser: {‘lbfgs’ (por defecto), ‘liblinear’, ‘newton-cg’, ‘newton-cholesky’, ‘sag’, ‘saga’}. Algunas consideraciones:"
   ]
  },
  {
   "cell_type": "markdown",
   "metadata": {
    "collapsed": false,
    "id": "fxPP5r9nEov2"
   },
   "source": [
    "Procedemos a la búsqueda de los hiperparámteros"
   ]
  },
  {
   "cell_type": "code",
   "execution_count": null,
   "metadata": {
    "id": "E896pSb9Eov2"
   },
   "outputs": [],
   "source": [
    "scaler = StandardScaler()\n",
    "lr = LogisticRegression()\n",
    "\n",
    "pipe_scale_lr = Pipeline([\n",
    "    ('scale', scaler),\n",
    "    ('lr', lr)])\n",
    "\n",
    "\n",
    "param_grid = [{'lr__penalty': ['l1', 'l2', 'elascticnet'],\n",
    "               'lr__C': [0.001, 0.01, 0.1, 1, 10, 100, 1000],\n",
    "               'lr__solver': ['newton-cg', 'lbfgs', 'liblinear', 'sag', 'saga']}]\n",
    "\n",
    "\n",
    "inner = KFold(n_splits=3, shuffle=True, random_state=42)\n",
    "\n",
    "#budget = 40\n",
    "# Cross-validation (3-fold) para la búsqueda de hiper-parámetros\n",
    "clf = GridSearchCV (estimator  = pipe_scale_lr,\n",
    "                    param_grid = param_grid,\n",
    "                    scoring='accuracy', #OJO!!! scoring=‘balanced_accuracy’\n",
    "                    cv=inner,\n",
    "                    refit=True,\n",
    "                    n_jobs=-1,\n",
    "                    verbose=1,\n",
    "                    return_train_score=True)\n",
    "\n",
    "np.random.seed(42)\n",
    "\n",
    "clf.fit(X=X_train, y=y_train)"
   ]
  },
  {
   "cell_type": "code",
   "execution_count": null,
   "metadata": {
    "id": "2AvReI_KEov3",
    "outputId": "32e827b0-20b2-494f-fd5c-e6fa319d3564"
   },
   "outputs": [],
   "source": [
    "resultados = pd.DataFrame(clf.cv_results_)\n",
    "resultados.filter(regex = '(param.*|mean_t|std_t)') \\\n",
    "    .drop(columns = 'params') \\\n",
    "    .sort_values('mean_test_score', ascending = False) \\\n",
    "    .head()"
   ]
  },
  {
   "cell_type": "code",
   "execution_count": null,
   "metadata": {
    "id": "MIhBzcJ_Eov3",
    "outputId": "1cf11f24-c7f8-4859-922b-6ad04419de90"
   },
   "outputs": [],
   "source": [
    "clf.best_params_, clf.best_score_"
   ]
  },
  {
   "cell_type": "markdown",
   "metadata": {
    "collapsed": false,
    "id": "A6TSw2M2Eov3"
   },
   "source": [
    "Al poner el parámetro `refit=True` se reentrena el modelo indicando los valores óptimos en sus argumentos. Este reentrenamiento se hace automáticamente y el modelo resultante se encuentra almacenado en `.best_estimator_`."
   ]
  },
  {
   "cell_type": "code",
   "execution_count": null,
   "metadata": {
    "id": "yWQW6Iq8Eov3",
    "outputId": "cbfbfaca-249a-4ab7-b839-1617eb808d8c"
   },
   "outputs": [],
   "source": [
    "modelo_final = clf.best_estimator_\n",
    "y_test_pred = modelo_final.predict(X_test)\n",
    "result = metrics.classification_report(y_test, y_test_pred)\n",
    "print(\"Classification Report:\",)\n",
    "print (result)"
   ]
  },
  {
   "cell_type": "markdown",
   "metadata": {
    "id": "fECUg3D-8wNk"
   },
   "source": [
    "## LogisticRegression con PCA\n"
   ]
  },
  {
   "cell_type": "markdown",
   "metadata": {
    "collapsed": false,
    "id": "uCh3-kfi8wNk"
   },
   "source": [
    "Procedemos a la búsqueda de los hiperparámteros y añadimos PCA en el pipeline\n",
    "\n",
    "---\n",
    "\n"
   ]
  },
  {
   "cell_type": "code",
   "execution_count": null,
   "metadata": {
    "id": "a0mWzhU1FbFb",
    "outputId": "6c47fd9c-cbee-42d2-e3b9-2847a6e15b63"
   },
   "outputs": [],
   "source": [
    "# El número máximo de variables de entrada es de 30\n",
    "\n",
    "pca = PCA(n_components=30,random_state=42)\n",
    "\n",
    "X_trans= pca.fit_transform(X)\n",
    "\n",
    "print(f\"Proporción de varianza explicada: {pca.explained_variance_ratio_}\")\n",
    "print(f\"Proporción acumulada: {np.cumsum(pca.explained_variance_ratio_)}\")\n"
   ]
  },
  {
   "cell_type": "markdown",
   "metadata": {
    "id": "PK5KfljRFbFc"
   },
   "source": [
    "Comprobamos que con las dos primeras variables llegamos al 0.999. Con dos componentes es suficiente"
   ]
  },
  {
   "cell_type": "code",
   "execution_count": null,
   "metadata": {
    "id": "9Htqdkxd8wNk",
    "outputId": "b36c0b4c-181a-42be-9759-b61f3b441f28"
   },
   "outputs": [],
   "source": [
    "\n",
    "pca = PCA(n_components=2,random_state=42)\n",
    "\n",
    "pipe_scale_lr = Pipeline([\n",
    "    ('scale', scaler),\n",
    "    ('pca', pca),\n",
    "    ('lr', lr)])\n",
    "\n",
    "param_grid = [{'lr__penalty': ['l1', 'l2', 'elascticnet'],\n",
    "               'lr__C': [0.001, 0.01, 0.1, 1, 10, 100, 1000],\n",
    "               'lr__solver': ['newton-cg', 'lbfgs', 'liblinear', 'sag', 'saga']}]\n",
    "\n",
    "\n",
    "inner = KFold(n_splits=3, shuffle=True, random_state=42)\n",
    "\n",
    "#budget = 40\n",
    "# Cross-validation (3-fold) para la búsqueda de hiper-parámetros\n",
    "clf = GridSearchCV (estimator  = pipe_scale_lr,\n",
    "                    param_grid = param_grid,\n",
    "                    scoring='accuracy', #OJO!!! scoring=‘balanced_accuracy’\n",
    "                    cv=inner,\n",
    "                    refit=True,\n",
    "                    n_jobs=-1,\n",
    "                    verbose=1,\n",
    "                    return_train_score=True)\n",
    "\n",
    "np.random.seed(42)\n",
    "\n",
    "clf.fit(X=X_train, y=y_train)"
   ]
  },
  {
   "cell_type": "code",
   "execution_count": null,
   "metadata": {
    "id": "CTBY-HBe8wNk",
    "outputId": "56de6612-92a7-4b12-b838-2b9d33c4427a"
   },
   "outputs": [],
   "source": [
    "resultados = pd.DataFrame(clf.cv_results_)\n",
    "resultados.filter(regex = '(param.*|mean_t|std_t)') \\\n",
    "    .drop(columns = 'params') \\\n",
    "    .sort_values('mean_test_score', ascending = False) \\\n",
    "    .head()"
   ]
  },
  {
   "cell_type": "code",
   "execution_count": null,
   "metadata": {
    "id": "ePod_gDN8wNl",
    "outputId": "a14c7811-d4fc-4161-cb68-22bf26e5da21"
   },
   "outputs": [],
   "source": [
    "clf.best_params_, clf.best_score_"
   ]
  },
  {
   "cell_type": "markdown",
   "metadata": {
    "collapsed": false,
    "id": "j3_Ie7o28wNl"
   },
   "source": [
    "Al poner el parámetro `refit=True` se reentrena el modelo indicando los valores óptimos en sus argumentos. Este reentrenamiento se hace automáticamente y el modelo resultante se encuentra almacenado en `.best_estimator_`."
   ]
  },
  {
   "cell_type": "code",
   "execution_count": null,
   "metadata": {
    "id": "cgvxrkgs8wNl",
    "outputId": "a6dd315d-8fb0-46f5-8153-b5dc996bff11"
   },
   "outputs": [],
   "source": [
    "modelo_final = clf.best_estimator_\n",
    "y_test_pred = modelo_final.predict(X_test)\n",
    "result = metrics.classification_report(y_test, y_test_pred)\n",
    "print(\"Classification Report:\",)\n",
    "print (result)"
   ]
  },
  {
   "cell_type": "markdown",
   "metadata": {
    "id": "ZoTzV9qVFbFc"
   },
   "source": [
    "Ventaja, que lo podemos pintar porque son dos componentes principales"
   ]
  },
  {
   "cell_type": "code",
   "execution_count": null,
   "metadata": {
    "id": "PTZpG5tyFbFc",
    "outputId": "6d2aebde-2a98-44c3-ce86-ca5c875dea1c"
   },
   "outputs": [],
   "source": [
    "pca=PCA(n_components=2,random_state=42)\n",
    "X_trans= pca.fit_transform(X)\n",
    "\n",
    "df_pca = pd.DataFrame(X_trans, columns=['PC1','PC2'])\n",
    "df_pca['label'] = y\n",
    "df_pca.head()"
   ]
  },
  {
   "cell_type": "code",
   "execution_count": null,
   "metadata": {
    "id": "LhWeV24eFbFc",
    "outputId": "4afdfea6-45d5-4b78-e837-8d45406b6ae4"
   },
   "outputs": [],
   "source": [
    "\n",
    "sns.scatterplot(data=df_pca, x=\"PC1\", y=\"PC2\", hue='label', palette=['#1f77b4', '#ff7f0e'])\n",
    "\n",
    "# Añadir etiquetas para los ejes y título\n",
    "plt.xlabel('PC1')\n",
    "plt.ylabel('PC2')\n",
    "plt.title('Scatterplot de dos componentes principales')\n",
    "# Mostrar leyenda claramente\n",
    "plt.legend(title='Clase')\n",
    "\n",
    "plt.show()"
   ]
  },
  {
   "cell_type": "markdown",
   "metadata": {
    "id": "PbNly_xfSGJ-"
   },
   "source": [
    "# Codificar una variable ordinal\n",
    "\n",
    "Partimos de un DataFrame con distintos niveles de educación."
   ]
  },
  {
   "cell_type": "code",
   "execution_count": null,
   "metadata": {
    "id": "xJWkp7OvSGJ-"
   },
   "outputs": [],
   "source": [
    "from sklearn.preprocessing import OrdinalEncoder\n",
    "\n",
    "# Datos con la variable categórica ordinal\n",
    "data = pd.DataFrame({\n",
    "    'nivel_educativo': ['Primaria', 'Secundaria', 'Bachillerato', 'Universidad', 'Maestría', 'Doctorado', 'Secundaria', 'Universidad']\n",
    "})\n"
   ]
  },
  {
   "cell_type": "markdown",
   "metadata": {
    "id": "7QdGn0nWSGJ-"
   },
   "source": [
    "Definimos el orden que deseamos para esos valores"
   ]
  },
  {
   "cell_type": "code",
   "execution_count": null,
   "metadata": {
    "id": "UFaqCli3SGJ-"
   },
   "outputs": [],
   "source": [
    "# Definir el orden correcto de la variable\n",
    "orden_niveles = ['Primaria', 'Secundaria', 'Bachillerato', 'Universidad', 'Maestría', 'Doctorado']\n"
   ]
  },
  {
   "cell_type": "markdown",
   "metadata": {
    "id": "U3SLdHVSSGJ-"
   },
   "source": [
    "Definimos el codificador con el orden establecido"
   ]
  },
  {
   "cell_type": "code",
   "execution_count": null,
   "metadata": {
    "id": "dq9HT-CHSGJ-"
   },
   "outputs": [],
   "source": [
    "encoder = OrdinalEncoder(categories=[orden_niveles])"
   ]
  },
  {
   "cell_type": "markdown",
   "metadata": {
    "id": "eYth1vaUSGJ-"
   },
   "source": [
    "Creamos una columna más para mostrar como quedaría la codificación"
   ]
  },
  {
   "cell_type": "code",
   "execution_count": null,
   "metadata": {
    "id": "YIglgOemSGJ-"
   },
   "outputs": [],
   "source": [
    "data['nivel_educativo_codificado'] = encoder.fit_transform(data[['nivel_educativo']])"
   ]
  },
  {
   "cell_type": "markdown",
   "metadata": {
    "id": "q-kOLGv0SGJ-"
   },
   "source": [
    "Lo mostramos"
   ]
  },
  {
   "cell_type": "code",
   "execution_count": null,
   "metadata": {
    "id": "emjetEvhSGJ-"
   },
   "outputs": [],
   "source": [
    "data"
   ]
  }
 ],
 "metadata": {
  "accelerator": "TPU",
  "colab": {
   "gpuType": "V28",
   "provenance": [],
   "toc_visible": true
  },
  "kernelspec": {
   "display_name": "Python 3",
   "language": "python",
   "name": "python3"
  },
  "language_info": {
   "codemirror_mode": {
    "name": "ipython",
    "version": 3
   },
   "file_extension": ".py",
   "mimetype": "text/x-python",
   "name": "python",
   "nbconvert_exporter": "python",
   "pygments_lexer": "ipython3",
   "version": "3.9.6"
  }
 },
 "nbformat": 4,
 "nbformat_minor": 0
}
